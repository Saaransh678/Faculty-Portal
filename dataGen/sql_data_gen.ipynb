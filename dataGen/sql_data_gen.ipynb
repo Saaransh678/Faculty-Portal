{
 "cells": [
  {
   "cell_type": "code",
   "execution_count": 18,
   "metadata": {},
   "outputs": [],
   "source": [
    "import random\n",
    "import names\n",
    "import datetime\n",
    "from random import randrange\n",
    "from datetime import timezone\n",
    "import random\n",
    "import string"
   ]
  },
  {
   "cell_type": "code",
   "execution_count": 19,
   "metadata": {},
   "outputs": [],
   "source": [
    "department=['CSE', 'EE', 'ME'  ]\n",
    "num_basic = 20\n",
    "Max_Leaves = 20\n",
    "position = ['director', 'dean_aa', 'hod_cse', 'hod_ee', 'hod_me', 'basic']\n",
    "rev_dict = {'CSE': 2,'EE':3, 'ME': 4}\n",
    "level = [3, 2, 1, 1, 1, 0]\n",
    "appName = \"main\"\n",
    "out_str = \"\"\n",
    "\n",
    "nouns = (\"puppy\", \"car\", \"rabbit\", \"girl\", \"monkey\")\n",
    "verbs = (\"runs\", \"hits\", \"jumps\", \"drives\", \"barfs\") \n",
    "adv = (\"crazily.\", \"dutifully.\", \"foolishly.\", \"merrily.\", \"occasionally.\")\n",
    "adj = (\"adorable\", \"clueless\", \"dirty\", \"odd\", \"stupid\")"
   ]
  },
  {
   "cell_type": "code",
   "execution_count": 20,
   "metadata": {},
   "outputs": [],
   "source": [
    "def get_random_string(length = 10, val = False):\n",
    "    if val:\n",
    "        letters = string.ascii_letters\n",
    "    else:\n",
    "        letters = string.ascii_letters +string.digits\n",
    "    result_str = ''.join(random.choice(letters) for i in range(length))\n",
    "    return result_str\n",
    "\n",
    "def gen_date():\n",
    "    start_date = datetime.datetime(2020, 1, 1, 0, 0, 0)\n",
    "    end_date = datetime.datetime(2020, 3, 1, 23, 59, 59)\n",
    "    time_st = start_date.replace(tzinfo=timezone.utc).timestamp()\n",
    "    time_en = end_date.replace(tzinfo=timezone.utc).timestamp()\n",
    "    delta = randrange(time_en - time_st)\n",
    "    rand_date = datetime.datetime.fromtimestamp(time_st+delta)\n",
    "    return rand_date"
   ]
  },
  {
   "cell_type": "code",
   "execution_count": 21,
   "metadata": {},
   "outputs": [],
   "source": [
    "uniq_id = []\n",
    "user_id = []\n",
    "first_names = []\n",
    "last_names = []\n",
    "depts = []\n",
    "leave_rem = []\n",
    "password = []\n",
    "emails = []\n",
    "permissions = []\n",
    "\n",
    "for i in range(6, 26):\n",
    "    uniq_id.append(i)\n",
    "    user_id.append(get_random_string())\n",
    "    first_names.append(names.get_first_name())\n",
    "    last_names.append(names.get_last_name())\n",
    "    depts.append(random.choice(department))\n",
    "    leave_rem.append(Max_Leaves)\n",
    "    password.append(get_random_string())\n",
    "    emails.append(get_random_string(8, val = True)+'@iitrpr.ac.in')\n",
    "    permissions.append(0)\n",
    "\n",
    "# uniq_id, user_id, first_names, last_names, depts, leave_rem, password, emails"
   ]
  },
  {
   "cell_type": "code",
   "execution_count": 22,
   "metadata": {},
   "outputs": [],
   "source": [
    "# special ids\n",
    "special_ids = random.sample(uniq_id, len(position)-1)\n",
    "special_pass = []\n",
    "for i in range(len(position)-1):\n",
    "    special_pass.append(get_random_string())\n",
    "    permissions[special_ids[i]-6] = level[i]"
   ]
  },
  {
   "cell_type": "code",
   "execution_count": 23,
   "metadata": {},
   "outputs": [
    {
     "data": {
      "text/plain": [
       "[0, 3, 0, 0, 1, 0, 0, 0, 2, 0, 0, 0, 0, 0, 0, 0, 0, 1, 0, 1]"
      ]
     },
     "execution_count": 23,
     "metadata": {},
     "output_type": "execute_result"
    }
   ],
   "source": [
    "permissions"
   ]
  },
  {
   "cell_type": "code",
   "execution_count": 24,
   "metadata": {
    "scrolled": true
   },
   "outputs": [
    {
     "name": "stdout",
     "output_type": "stream",
     "text": [
      "INSERT INTO main_Previous_Request_Record(\"id\",\"EntryID\", \"ApplicantID\", starting_date, num_leaves, was_approved) VALUES (1, 22, 11, '2020-01-22', 8, True);\n",
      "INSERT INTO main_Previous_Request_Record(\"id\",\"EntryID\", \"ApplicantID\", starting_date, num_leaves, was_approved) VALUES (2, 22, 16, '2020-02-12', 11, True);\n",
      "INSERT INTO main_Previous_Request_Record(\"id\",\"EntryID\", \"ApplicantID\", starting_date, num_leaves, was_approved) VALUES (3, 24, 11, '2020-02-19', 3, True);\n",
      "INSERT INTO main_Previous_Request_Record(\"id\",\"EntryID\", \"ApplicantID\", starting_date, num_leaves, was_approved) VALUES (4, 15, 23, '2020-01-12', 11, True);\n",
      "INSERT INTO main_Previous_Request_Record(\"id\",\"EntryID\", \"ApplicantID\", starting_date, num_leaves, was_approved) VALUES (5, 20, 11, '2020-01-30', 4, False);\n",
      "INSERT INTO main_Previous_Request_Record(\"id\",\"EntryID\", \"ApplicantID\", starting_date, num_leaves, was_approved) VALUES (6, 2, 24, '2020-01-06', 16, True);\n",
      "INSERT INTO main_Previous_Request_Record(\"id\",\"EntryID\", \"ApplicantID\", starting_date, num_leaves, was_approved) VALUES (7, 11, 9, '2020-02-11', 8, True);\n",
      "INSERT INTO main_Previous_Request_Record(\"id\",\"EntryID\", \"ApplicantID\", starting_date, num_leaves, was_approved) VALUES (8, 12, 13, '2020-02-24', 15, True);\n",
      "INSERT INTO main_Previous_Request_Record(\"id\",\"EntryID\", \"ApplicantID\", starting_date, num_leaves, was_approved) VALUES (9, 7, 12, '2020-01-27', 15, True);\n",
      "INSERT INTO main_Previous_Request_Record(\"id\",\"EntryID\", \"ApplicantID\", starting_date, num_leaves, was_approved) VALUES (10, 4, 18, '2020-01-26', 9, True);\n",
      "INSERT INTO main_Previous_Request_Record(\"id\",\"EntryID\", \"ApplicantID\", starting_date, num_leaves, was_approved) VALUES (11, 2, 8, '2020-02-25', 11, False);\n",
      "INSERT INTO main_Previous_Request_Record(\"id\",\"EntryID\", \"ApplicantID\", starting_date, num_leaves, was_approved) VALUES (12, 19, 15, '2020-02-06', 2, False);\n",
      "INSERT INTO main_Previous_Request_Record(\"id\",\"EntryID\", \"ApplicantID\", starting_date, num_leaves, was_approved) VALUES (13, 5, 16, '2020-02-18', 8, True);\n",
      "INSERT INTO main_Previous_Request_Record(\"id\",\"EntryID\", \"ApplicantID\", starting_date, num_leaves, was_approved) VALUES (14, 2, 7, '2020-02-26', 9, False);\n",
      "INSERT INTO main_Previous_Request_Record(\"id\",\"EntryID\", \"ApplicantID\", starting_date, num_leaves, was_approved) VALUES (15, 23, 11, '2020-02-13', 3, True);\n",
      "INSERT INTO main_Previous_Request_Record(\"id\",\"EntryID\", \"ApplicantID\", starting_date, num_leaves, was_approved) VALUES (16, 20, 19, '2020-01-26', 18, True);\n",
      "INSERT INTO main_Previous_Request_Record(\"id\",\"EntryID\", \"ApplicantID\", starting_date, num_leaves, was_approved) VALUES (17, 6, 14, '2020-02-03', 10, True);\n",
      "INSERT INTO main_Previous_Request_Record(\"id\",\"EntryID\", \"ApplicantID\", starting_date, num_leaves, was_approved) VALUES (18, 11, 7, '2020-02-26', 6, True);\n",
      "INSERT INTO main_Previous_Request_Record(\"id\",\"EntryID\", \"ApplicantID\", starting_date, num_leaves, was_approved) VALUES (19, 25, 20, '2020-02-09', 20, True);\n",
      "INSERT INTO main_Previous_Request_Record(\"id\",\"EntryID\", \"ApplicantID\", starting_date, num_leaves, was_approved) VALUES (20, 17, 17, '2020-01-10', 16, True);\n",
      "INSERT INTO main_Previous_Request_Record(\"id\",\"EntryID\", \"ApplicantID\", starting_date, num_leaves, was_approved) VALUES (21, 9, 19, '2020-02-23', 1, True);\n",
      "INSERT INTO main_Previous_Request_Record(\"id\",\"EntryID\", \"ApplicantID\", starting_date, num_leaves, was_approved) VALUES (22, 22, 10, '2020-02-05', 19, False);\n",
      "INSERT INTO main_Previous_Request_Record(\"id\",\"EntryID\", \"ApplicantID\", starting_date, num_leaves, was_approved) VALUES (23, 11, 18, '2020-02-27', 6, False);\n",
      "INSERT INTO main_Previous_Request_Record(\"id\",\"EntryID\", \"ApplicantID\", starting_date, num_leaves, was_approved) VALUES (24, 13, 23, '2020-02-17', 7, True);\n",
      "INSERT INTO main_Previous_Request_Record(\"id\",\"EntryID\", \"ApplicantID\", starting_date, num_leaves, was_approved) VALUES (25, 10, 15, '2020-01-20', 8, False);\n",
      "INSERT INTO main_Previous_Request_Record(\"id\",\"EntryID\", \"ApplicantID\", starting_date, num_leaves, was_approved) VALUES (26, 19, 11, '2020-01-14', 6, False);\n",
      "INSERT INTO main_Previous_Request_Record(\"id\",\"EntryID\", \"ApplicantID\", starting_date, num_leaves, was_approved) VALUES (27, 7, 7, '2020-01-25', 1, True);\n",
      "INSERT INTO main_Previous_Request_Record(\"id\",\"EntryID\", \"ApplicantID\", starting_date, num_leaves, was_approved) VALUES (29, 7, 15, '2020-01-18', 3, False);\n",
      "INSERT INTO main_Previous_Request_Record(\"id\",\"EntryID\", \"ApplicantID\", starting_date, num_leaves, was_approved) VALUES (30, 21, 14, '2020-01-03', 1, False);\n",
      "INSERT INTO main_Previous_Request_Record(\"id\",\"EntryID\", \"ApplicantID\", starting_date, num_leaves, was_approved) VALUES (31, 2, 8, '2020-01-23', 16, False);\n",
      "INSERT INTO main_Previous_Request_Record(\"id\",\"EntryID\", \"ApplicantID\", starting_date, num_leaves, was_approved) VALUES (32, 7, 22, '2020-01-03', 16, False);\n",
      "INSERT INTO main_Previous_Request_Record(\"id\",\"EntryID\", \"ApplicantID\", starting_date, num_leaves, was_approved) VALUES (33, 21, 6, '2020-02-12', 19, False);\n",
      "INSERT INTO main_Previous_Request_Record(\"id\",\"EntryID\", \"ApplicantID\", starting_date, num_leaves, was_approved) VALUES (34, 6, 25, '2020-02-28', 1, False);\n",
      "INSERT INTO main_Previous_Request_Record(\"id\",\"EntryID\", \"ApplicantID\", starting_date, num_leaves, was_approved) VALUES (35, 13, 18, '2020-01-28', 6, False);\n",
      "INSERT INTO main_Previous_Request_Record(\"id\",\"EntryID\", \"ApplicantID\", starting_date, num_leaves, was_approved) VALUES (36, 10, 6, '2020-02-09', 19, False);\n",
      "INSERT INTO main_Previous_Request_Record(\"id\",\"EntryID\", \"ApplicantID\", starting_date, num_leaves, was_approved) VALUES (37, 7, 7, '2020-02-03', 3, False);\n",
      "INSERT INTO main_Previous_Request_Record(\"id\",\"EntryID\", \"ApplicantID\", starting_date, num_leaves, was_approved) VALUES (39, 8, 15, '2020-01-24', 3, True);\n"
     ]
    }
   ],
   "source": [
    "applicants = []\n",
    "for i in range(40):\n",
    "    was_approved = random.choice([True, False])\n",
    "    verdict = random.choice([0,1,2])\n",
    "    applicant = random.choice(range(6, 26))\n",
    "    applicants.append(applicant)\n",
    "    if leave_rem[applicant-6] > 1:\n",
    "        num_leaves = random.randint(1, leave_rem[applicant-6])\n",
    "    else:\n",
    "        continue\n",
    "    signedby = -1\n",
    "    if applicant in special_ids:\n",
    "        signedby = special_ids[0]\n",
    "        if was_approved == True:\n",
    "            leave_rem[applicant-6] -= num_leaves\n",
    "            \n",
    "    elif was_approved == True:\n",
    "        leave_rem[applicant-6] -= num_leaves\n",
    "        signedby = special_ids[1]\n",
    "            \n",
    "    else:\n",
    "        signedby = random.choice(special_ids[1:-1])\n",
    "    if leave_rem[applicant-6] <0:\n",
    "        num_leaves += leave_rem[applicant-6]\n",
    "        leave_rem[applicant-6]=0\n",
    "    \n",
    "    curr = f\"INSERT INTO {appName}_Previous_Request_Record(\\\"id\\\",\\\"EntryID\\\", \\\"ApplicantID\\\", starting_date, num_leaves, was_approved) VALUES ({i+1}, {random.choice(range(2, 26))}, {applicant}, '{gen_date().date()}', {num_leaves}, {was_approved});\"\n",
    "    out_str += curr\n",
    "    print(curr)"
   ]
  },
  {
   "cell_type": "code",
   "execution_count": 25,
   "metadata": {},
   "outputs": [
    {
     "name": "stdout",
     "output_type": "stream",
     "text": [
      "INSERT INTO main_Decision_Record(\"id\",\"EntryID\", timecreated, body, \"DecisionMakerID\", is_active, verdict) VALUES (1, 5, '2020-01-19 20:18:04', 'rabbit jumps dirty foolishly.', 14, True, '0');\n",
      "INSERT INTO main_Decision_Record(\"id\",\"EntryID\", timecreated, body, \"DecisionMakerID\", is_active, verdict) VALUES (2, 25, '2020-01-24 09:46:56', 'puppy runs adorable crazily.', 14, True, '1');\n",
      "INSERT INTO main_Decision_Record(\"id\",\"EntryID\", timecreated, body, \"DecisionMakerID\", is_active, verdict) VALUES (3, 9, '2020-02-10 03:28:53', 'girl drives odd merrily.', 14, False, '2');\n",
      "INSERT INTO main_Decision_Record(\"id\",\"EntryID\", timecreated, body, \"DecisionMakerID\", is_active, verdict) VALUES (4, 8, '2020-01-10 14:15:59', 'monkey barfs stupid occasionally.', 14, False, '0');\n",
      "INSERT INTO main_Decision_Record(\"id\",\"EntryID\", timecreated, body, \"DecisionMakerID\", is_active, verdict) VALUES (5, 25, '2020-01-04 06:08:38', 'puppy runs adorable crazily.', 7, False, '2');\n",
      "INSERT INTO main_Decision_Record(\"id\",\"EntryID\", timecreated, body, \"DecisionMakerID\", is_active, verdict) VALUES (7, 7, '2020-02-24 02:29:15', 'car hits clueless dutifully.', 14, True, '2');\n",
      "INSERT INTO main_Decision_Record(\"id\",\"EntryID\", timecreated, body, \"DecisionMakerID\", is_active, verdict) VALUES (8, 8, '2020-01-06 09:33:14', 'car hits clueless dutifully.', 7, True, '1');\n",
      "INSERT INTO main_Decision_Record(\"id\",\"EntryID\", timecreated, body, \"DecisionMakerID\", is_active, verdict) VALUES (9, 23, '2020-01-16 18:32:25', 'monkey barfs stupid occasionally.', 7, True, '0');\n",
      "INSERT INTO main_Decision_Record(\"id\",\"EntryID\", timecreated, body, \"DecisionMakerID\", is_active, verdict) VALUES (14, 16, '2020-01-01 19:37:03', 'rabbit jumps dirty foolishly.', 7, False, '1');\n",
      "INSERT INTO main_Decision_Record(\"id\",\"EntryID\", timecreated, body, \"DecisionMakerID\", is_active, verdict) VALUES (17, 4, '2020-02-21 01:23:04', 'car hits clueless dutifully.', 14, True, '2');\n",
      "INSERT INTO main_Decision_Record(\"id\",\"EntryID\", timecreated, body, \"DecisionMakerID\", is_active, verdict) VALUES (18, 4, '2020-01-05 00:16:09', 'monkey barfs stupid occasionally.', 7, True, '1');\n",
      "INSERT INTO main_Decision_Record(\"id\",\"EntryID\", timecreated, body, \"DecisionMakerID\", is_active, verdict) VALUES (19, 12, '2020-02-27 11:22:13', 'rabbit jumps dirty foolishly.', 14, True, '1');\n",
      "INSERT INTO main_Decision_Record(\"id\",\"EntryID\", timecreated, body, \"DecisionMakerID\", is_active, verdict) VALUES (20, 9, '2020-01-18 03:11:30', 'girl drives odd merrily.', 14, True, '1');\n",
      "INSERT INTO main_Decision_Record(\"id\",\"EntryID\", timecreated, body, \"DecisionMakerID\", is_active, verdict) VALUES (22, 11, '2020-03-02 00:06:17', 'rabbit jumps dirty foolishly.', 14, True, '0');\n",
      "INSERT INTO main_Decision_Record(\"id\",\"EntryID\", timecreated, body, \"DecisionMakerID\", is_active, verdict) VALUES (23, 13, '2020-01-13 08:46:03', 'car hits clueless dutifully.', 7, True, '1');\n",
      "INSERT INTO main_Decision_Record(\"id\",\"EntryID\", timecreated, body, \"DecisionMakerID\", is_active, verdict) VALUES (27, 9, '2020-01-24 04:10:23', 'rabbit jumps dirty foolishly.', 7, False, '2');\n",
      "INSERT INTO main_Decision_Record(\"id\",\"EntryID\", timecreated, body, \"DecisionMakerID\", is_active, verdict) VALUES (29, 9, '2020-02-27 01:08:52', 'monkey barfs stupid occasionally.', 7, True, '2');\n",
      "INSERT INTO main_Decision_Record(\"id\",\"EntryID\", timecreated, body, \"DecisionMakerID\", is_active, verdict) VALUES (32, 8, '2020-02-28 15:10:41', 'rabbit jumps dirty foolishly.', 7, False, '1');\n",
      "INSERT INTO main_Decision_Record(\"id\",\"EntryID\", timecreated, body, \"DecisionMakerID\", is_active, verdict) VALUES (35, 12, '2020-01-19 10:35:47', 'puppy runs adorable crazily.', 14, False, '1');\n",
      "INSERT INTO main_Decision_Record(\"id\",\"EntryID\", timecreated, body, \"DecisionMakerID\", is_active, verdict) VALUES (37, 13, '2020-02-04 06:40:40', 'rabbit jumps dirty foolishly.', 14, True, '0');\n",
      "INSERT INTO main_Decision_Record(\"id\",\"EntryID\", timecreated, body, \"DecisionMakerID\", is_active, verdict) VALUES (38, 19, '2020-01-21 18:22:38', 'girl drives odd merrily.', 7, False, '1');\n",
      "INSERT INTO main_Decision_Record(\"id\",\"EntryID\", timecreated, body, \"DecisionMakerID\", is_active, verdict) VALUES (40, 2, '2020-02-25 23:01:12', 'monkey barfs stupid occasionally.', 7, True, '0');\n",
      "INSERT INTO main_Decision_Record(\"id\",\"EntryID\", timecreated, body, \"DecisionMakerID\", is_active, verdict) VALUES (43, 18, '2020-01-12 22:58:51', 'rabbit jumps dirty foolishly.', 7, False, '0');\n",
      "INSERT INTO main_Decision_Record(\"id\",\"EntryID\", timecreated, body, \"DecisionMakerID\", is_active, verdict) VALUES (46, 5, '2020-02-19 08:26:47', 'girl drives odd merrily.', 7, False, '0');\n",
      "INSERT INTO main_Decision_Record(\"id\",\"EntryID\", timecreated, body, \"DecisionMakerID\", is_active, verdict) VALUES (48, 11, '2020-01-22 13:15:16', 'puppy runs adorable crazily.', 14, True, '1');\n",
      "INSERT INTO main_Decision_Record(\"id\",\"EntryID\", timecreated, body, \"DecisionMakerID\", is_active, verdict) VALUES (50, 13, '2020-02-10 09:42:58', 'monkey barfs stupid occasionally.', 10, True, '1');\n",
      "INSERT INTO main_Decision_Record(\"id\",\"EntryID\", timecreated, body, \"DecisionMakerID\", is_active, verdict) VALUES (51, 6, '2020-02-21 00:41:44', 'puppy runs adorable crazily.', 7, False, '0');\n",
      "INSERT INTO main_Decision_Record(\"id\",\"EntryID\", timecreated, body, \"DecisionMakerID\", is_active, verdict) VALUES (52, 23, '2020-01-16 00:01:52', 'rabbit jumps dirty foolishly.', 7, True, '0');\n",
      "INSERT INTO main_Decision_Record(\"id\",\"EntryID\", timecreated, body, \"DecisionMakerID\", is_active, verdict) VALUES (53, 2, '2020-03-01 03:17:33', 'rabbit jumps dirty foolishly.', 14, False, '2');\n",
      "INSERT INTO main_Decision_Record(\"id\",\"EntryID\", timecreated, body, \"DecisionMakerID\", is_active, verdict) VALUES (55, 21, '2020-02-15 16:50:04', 'car hits clueless dutifully.', 14, True, '2');\n",
      "INSERT INTO main_Decision_Record(\"id\",\"EntryID\", timecreated, body, \"DecisionMakerID\", is_active, verdict) VALUES (57, 25, '2020-01-30 03:34:11', 'monkey barfs stupid occasionally.', 14, False, '0');\n",
      "INSERT INTO main_Decision_Record(\"id\",\"EntryID\", timecreated, body, \"DecisionMakerID\", is_active, verdict) VALUES (62, 11, '2020-01-17 08:04:04', 'girl drives odd merrily.', 14, True, '1');\n",
      "INSERT INTO main_Decision_Record(\"id\",\"EntryID\", timecreated, body, \"DecisionMakerID\", is_active, verdict) VALUES (67, 11, '2020-02-10 09:12:57', 'car hits clueless dutifully.', 14, False, '1');\n",
      "INSERT INTO main_Decision_Record(\"id\",\"EntryID\", timecreated, body, \"DecisionMakerID\", is_active, verdict) VALUES (69, 2, '2020-02-08 17:48:55', 'puppy runs adorable crazily.', 23, True, '1');\n",
      "INSERT INTO main_Decision_Record(\"id\",\"EntryID\", timecreated, body, \"DecisionMakerID\", is_active, verdict) VALUES (70, 20, '2020-02-25 20:26:43', 'monkey barfs stupid occasionally.', 14, True, '1');\n",
      "INSERT INTO main_Decision_Record(\"id\",\"EntryID\", timecreated, body, \"DecisionMakerID\", is_active, verdict) VALUES (76, 18, '2020-02-15 15:35:04', 'girl drives odd merrily.', 23, True, '0');\n",
      "INSERT INTO main_Decision_Record(\"id\",\"EntryID\", timecreated, body, \"DecisionMakerID\", is_active, verdict) VALUES (80, 23, '2020-01-27 19:20:33', 'rabbit jumps dirty foolishly.', 10, True, '2');\n"
     ]
    },
    {
     "data": {
      "text/plain": [
       "('decisiondate,', 'was_approved')"
      ]
     },
     "execution_count": 25,
     "metadata": {},
     "output_type": "execute_result"
    }
   ],
   "source": [
    "for i in range(80):\n",
    "    is_active = random.choice([True, False])\n",
    "    verdict = random.choice([0, 1, 2])\n",
    "    was_approved = random.choice([True, False])\n",
    "    applicant = random.choice(range(6, 26))\n",
    "    if leave_rem[applicant-6] > 1:\n",
    "        num_leaves = random.randint(1, leave_rem[applicant-6])\n",
    "    else:\n",
    "        continue\n",
    "    signedby = -1\n",
    "    if applicant in special_ids:\n",
    "        signedby = special_ids[0]\n",
    "        if was_approved == True:\n",
    "            leave_rem[applicant-6] -= num_leaves\n",
    "            \n",
    "    elif was_approved == True:\n",
    "        leave_rem[applicant-6] -= num_leaves\n",
    "        signedby = special_ids[1]\n",
    "            \n",
    "    else:\n",
    "        signedby = random.choice(special_ids[1:-1])\n",
    "    if leave_rem[applicant-6] <0:\n",
    "        num_leaves += leave_rem[applicant-6]\n",
    "        leave_rem[applicant-6]=0\n",
    "    num = random.randrange(0,5)\n",
    "    description=nouns[num] + ' ' + verbs[num] + ' ' + adj[num] + ' ' + adv[num]\n",
    "    \n",
    "    \n",
    "    curr = f\"INSERT INTO {appName}_Decision_Record(\\\"id\\\",\\\"EntryID\\\", timecreated, body, \\\"DecisionMakerID\\\", is_active, verdict) VALUES ({i+1}, {random.choice(range(2, 26))}, '{gen_date()}', '{description}', {signedby}, {is_active}, '{verdict}');\"\n",
    "    out_str += curr\n",
    "    print(curr)\n",
    ", decisiondate, was_approved"
   ]
  },
  {
   "cell_type": "code",
   "execution_count": 26,
   "metadata": {},
   "outputs": [
    {
     "name": "stdout",
     "output_type": "stream",
     "text": [
      "INSERT INTO auth_user(id, password, is_superuser, username, first_name, last_name, email, is_staff, is_active, date_joined) VALUES ('1', 'dnX48G4hSj', 'false', 'director' , 'James', 'Johnson', 'elRybcNl@iitrpr.ac.in', 'False', 'True', '2020-01-25 08:26:50');\n",
      "INSERT INTO auth_user(id, password, is_superuser, username, first_name, last_name, email, is_staff, is_active, date_joined) VALUES ('2', 'lldKDgAZO6', 'false', 'dean_aa' , 'Daniel', 'Hanna', 'WewCilTe@iitrpr.ac.in', 'False', 'True', '2020-02-27 22:44:57');\n",
      "INSERT INTO auth_user(id, password, is_superuser, username, first_name, last_name, email, is_staff, is_active, date_joined) VALUES ('3', 'h41D7RF6t9', 'false', 'hod_cse' , 'Michael', 'Stinson', 'ngbJAubD@iitrpr.ac.in', 'False', 'True', '2020-02-29 05:49:08');\n",
      "INSERT INTO auth_user(id, password, is_superuser, username, first_name, last_name, email, is_staff, is_active, date_joined) VALUES ('4', 'NtqjtNkqVR', 'false', 'hod_ee' , 'Betty', 'Davis', 'ZmBtfSUw@iitrpr.ac.in', 'False', 'True', '2020-01-20 09:08:20');\n",
      "INSERT INTO auth_user(id, password, is_superuser, username, first_name, last_name, email, is_staff, is_active, date_joined) VALUES ('5', 'NomUtfbAUu', 'false', 'hod_me' , 'Mary', 'Cohan', 'SfyUhivJ@iitrpr.ac.in', 'False', 'True', '2020-02-07 17:59:10');\n",
      "\n",
      "\n",
      "\n",
      "INSERT INTO auth_user(id, password, last_login, is_superuser, username, first_name, last_name, email, is_staff, is_active, date_joined) VALUES ('6', '6ykZGNlOv4',  '2020-01-11 18:20:25', 'false', 'JQHyfvOfvr' , 'Ruby', 'Slattery', 'WwUaKwAv@iitrpr.ac.in', 'false', 'true', '2020-01-15 15:12:45');\n",
      "INSERT INTO auth_user(id, password, last_login, is_superuser, username, first_name, last_name, email, is_staff, is_active, date_joined) VALUES ('7', 'KENio5NQRy',  '2020-01-29 07:44:46', 'false', 'D8g3iRMLyJ' , 'James', 'Johnson', 'elRybcNl@iitrpr.ac.in', 'false', 'true', '2020-01-18 20:45:45');\n",
      "INSERT INTO auth_user(id, password, last_login, is_superuser, username, first_name, last_name, email, is_staff, is_active, date_joined) VALUES ('8', 'yneiLeY5XW',  '2020-01-04 14:02:52', 'false', 'vHr67qPsx1' , 'Stephen', 'Woolwine', 'UYENzkCm@iitrpr.ac.in', 'false', 'true', '2020-01-22 22:11:39');\n",
      "INSERT INTO auth_user(id, password, last_login, is_superuser, username, first_name, last_name, email, is_staff, is_active, date_joined) VALUES ('9', 'HVGX2aIvmN',  '2020-01-25 22:58:21', 'false', 'nRidm5may1' , 'Randy', 'Davis', 'VNFvMkgv@iitrpr.ac.in', 'false', 'true', '2020-01-18 05:34:35');\n",
      "INSERT INTO auth_user(id, password, last_login, is_superuser, username, first_name, last_name, email, is_staff, is_active, date_joined) VALUES ('10', 'Khqh5EteOY',  '2020-01-08 11:06:19', 'false', 'Z7wLQnbctM' , 'Betty', 'Davis', 'ZmBtfSUw@iitrpr.ac.in', 'false', 'true', '2020-02-19 11:41:28');\n",
      "INSERT INTO auth_user(id, password, last_login, is_superuser, username, first_name, last_name, email, is_staff, is_active, date_joined) VALUES ('11', 'LMRWpixjER',  '2020-02-18 06:04:37', 'false', 'JnKITDyjFC' , 'Matthew', 'Gabriele', 'kBqEXYYZ@iitrpr.ac.in', 'false', 'true', '2020-02-12 20:55:08');\n",
      "INSERT INTO auth_user(id, password, last_login, is_superuser, username, first_name, last_name, email, is_staff, is_active, date_joined) VALUES ('12', 'CZAR4OYMoo',  '2020-01-30 00:25:33', 'false', 'zhGNmvwDFC' , 'Viola', 'Huss', 'pdWkoKMT@iitrpr.ac.in', 'false', 'true', '2020-02-15 18:00:37');\n",
      "INSERT INTO auth_user(id, password, last_login, is_superuser, username, first_name, last_name, email, is_staff, is_active, date_joined) VALUES ('13', 'LfuTHwXjJj',  '2020-02-18 21:17:07', 'false', 'Y6USVuUTsp' , 'Randall', 'Lange', 'dfpnvkCw@iitrpr.ac.in', 'false', 'true', '2020-01-10 16:04:57');\n",
      "INSERT INTO auth_user(id, password, last_login, is_superuser, username, first_name, last_name, email, is_staff, is_active, date_joined) VALUES ('14', 'vfbD1lt2LY',  '2020-02-07 22:21:22', 'false', 'tHxJO0JKtR' , 'Daniel', 'Hanna', 'WewCilTe@iitrpr.ac.in', 'false', 'true', '2020-01-25 10:03:44');\n",
      "INSERT INTO auth_user(id, password, last_login, is_superuser, username, first_name, last_name, email, is_staff, is_active, date_joined) VALUES ('15', '3hLAYWHdjS',  '2020-02-15 01:56:06', 'false', 'U15xCM5sSK' , 'Cynthia', 'Johnson', 'qiUColEz@iitrpr.ac.in', 'false', 'true', '2020-02-17 14:26:55');\n",
      "INSERT INTO auth_user(id, password, last_login, is_superuser, username, first_name, last_name, email, is_staff, is_active, date_joined) VALUES ('16', 'P3HTIF5bhq',  '2020-01-28 21:01:44', 'false', 'cDc9tcNr2U' , 'Barry', 'Dennig', 'kgvcQSNn@iitrpr.ac.in', 'false', 'true', '2020-01-06 17:24:24');\n",
      "INSERT INTO auth_user(id, password, last_login, is_superuser, username, first_name, last_name, email, is_staff, is_active, date_joined) VALUES ('17', '1Jgrgj7dEe',  '2020-02-18 20:10:50', 'false', 'gluxCLBZKD' , 'Sheila', 'Schechter', 'FysiWwpF@iitrpr.ac.in', 'false', 'true', '2020-02-16 09:14:09');\n",
      "INSERT INTO auth_user(id, password, last_login, is_superuser, username, first_name, last_name, email, is_staff, is_active, date_joined) VALUES ('18', 'jorDBh9cZM',  '2020-02-01 14:32:46', 'false', '9EyUQIJ6R9' , 'Miles', 'Byrd', 'AulwnMwQ@iitrpr.ac.in', 'false', 'true', '2020-02-19 06:09:00');\n",
      "INSERT INTO auth_user(id, password, last_login, is_superuser, username, first_name, last_name, email, is_staff, is_active, date_joined) VALUES ('19', 'cooaPj6DSD',  '2020-01-07 01:31:15', 'false', 'hiS9cpNL3X' , 'Lindsay', 'Jackson', 'KynNrbDl@iitrpr.ac.in', 'false', 'true', '2020-02-07 18:22:17');\n",
      "INSERT INTO auth_user(id, password, last_login, is_superuser, username, first_name, last_name, email, is_staff, is_active, date_joined) VALUES ('20', '9rbbsxWELy',  '2020-01-28 06:16:07', 'false', 'fIFZfKPKVy' , 'Richelle', 'Mack', 'GAnncVFf@iitrpr.ac.in', 'false', 'true', '2020-02-25 17:56:19');\n",
      "INSERT INTO auth_user(id, password, last_login, is_superuser, username, first_name, last_name, email, is_staff, is_active, date_joined) VALUES ('21', '0pjtXFTnuI',  '2020-01-07 10:28:15', 'false', 'B7tSQgSjGz' , 'Carolyn', 'Mizutani', 'zAdYWtyF@iitrpr.ac.in', 'false', 'true', '2020-02-27 15:13:41');\n",
      "INSERT INTO auth_user(id, password, last_login, is_superuser, username, first_name, last_name, email, is_staff, is_active, date_joined) VALUES ('22', 'evhCdSvCbb',  '2020-01-22 14:26:34', 'false', 'b3CmGnAUdb' , 'James', 'Belser', 'uJKCuaHS@iitrpr.ac.in', 'false', 'true', '2020-01-07 03:12:15');\n",
      "INSERT INTO auth_user(id, password, last_login, is_superuser, username, first_name, last_name, email, is_staff, is_active, date_joined) VALUES ('23', 'aIlP6XaX7K',  '2020-02-24 01:05:24', 'false', 'O8rGCrgna1' , 'Michael', 'Stinson', 'ngbJAubD@iitrpr.ac.in', 'false', 'true', '2020-02-26 17:08:01');\n",
      "INSERT INTO auth_user(id, password, last_login, is_superuser, username, first_name, last_name, email, is_staff, is_active, date_joined) VALUES ('24', '4g6Q4mLnZP',  '2020-02-20 19:14:56', 'false', 'hHHdHbKQRY' , 'Robert', 'Milliken', 'ynzMgoJI@iitrpr.ac.in', 'false', 'true', '2020-01-02 00:42:03');\n",
      "INSERT INTO auth_user(id, password, last_login, is_superuser, username, first_name, last_name, email, is_staff, is_active, date_joined) VALUES ('25', 'zmxngWiSFj',  '2020-02-04 14:32:31', 'false', 'F5Z1bDK78W' , 'Mary', 'Cohan', 'SfyUhivJ@iitrpr.ac.in', 'false', 'true', '2020-01-28 13:01:09');\n"
     ]
    }
   ],
   "source": [
    "for i in range(1, len(position)):\n",
    "    curr = f\"INSERT INTO auth_user(id, password, is_superuser, username, first_name, last_name, email, is_staff, is_active, date_joined) VALUES ('{i}', '{special_pass[i-1]}', 'false', '{position[i-1]}' , '{first_names[special_ids[i-1]-6]}', '{last_names[special_ids[i-1]-6]}', '{emails[special_ids[i-1]-6]}', 'False', 'True', '{gen_date()}');\" \n",
    "    out_str+=curr\n",
    "    print(curr)\n",
    "\n",
    "    \n",
    "print(\"\\n\\n\")\n",
    "\n",
    "\n",
    "for i in range(num_basic):\n",
    "    date_a = gen_date()\n",
    "    date_b = gen_date()\n",
    "    curr = f\"INSERT INTO auth_user(id, password, last_login, is_superuser, username, first_name, last_name, email, is_staff, is_active, date_joined) VALUES ('{uniq_id[i]}', '{password[i]}',  '{date_a}', 'false', '{user_id[i]}' , '{first_names[i]}', '{last_names[i]}', '{emails[i]}', 'false', 'true', '{date_b}');\" \n",
    "    out_str+=curr\n",
    "    print(curr)"
   ]
  },
  {
   "cell_type": "code",
   "execution_count": 27,
   "metadata": {},
   "outputs": [
    {
     "data": {
      "text/plain": [
       "[7, 14, 23, 10, 25]"
      ]
     },
     "execution_count": 27,
     "metadata": {},
     "output_type": "execute_result"
    }
   ],
   "source": [
    "special_ids"
   ]
  },
  {
   "cell_type": "code",
   "execution_count": 28,
   "metadata": {},
   "outputs": [
    {
     "name": "stdout",
     "output_type": "stream",
     "text": [
      "INSERT INTO main_Faculty(\"FacultyID\", dept, leaves_remaining, permission_level) VALUES (1,'ME', 1, 3);\n",
      "INSERT INTO main_Faculty(\"FacultyID\", dept, leaves_remaining, permission_level) VALUES (2,'ME', 1, 2);\n",
      "INSERT INTO main_Faculty(\"FacultyID\", dept, leaves_remaining, permission_level) VALUES (3,'CSE', 0, 1);\n",
      "INSERT INTO main_Faculty(\"FacultyID\", dept, leaves_remaining, permission_level) VALUES (4,'ME', 0, 1);\n",
      "INSERT INTO main_Faculty(\"FacultyID\", dept, leaves_remaining, permission_level) VALUES (5,'ME', 1, 1);\n",
      "\n",
      "\n",
      "\n",
      "INSERT INTO main_Faculty(\"FacultyID\", dept, leaves_remaining, permission_level) VALUES (6,'CSE', 7, 0);\n",
      "INSERT INTO main_Faculty(\"FacultyID\", dept, leaves_remaining, permission_level) VALUES (7,'ME', 1, 3);\n",
      "INSERT INTO main_Faculty(\"FacultyID\", dept, leaves_remaining, permission_level) VALUES (8,'CSE', 1, 0);\n",
      "INSERT INTO main_Faculty(\"FacultyID\", dept, leaves_remaining, permission_level) VALUES (9,'ME', 1, 0);\n",
      "INSERT INTO main_Faculty(\"FacultyID\", dept, leaves_remaining, permission_level) VALUES (10,'ME', 0, 1);\n",
      "INSERT INTO main_Faculty(\"FacultyID\", dept, leaves_remaining, permission_level) VALUES (11,'EE', 1, 0);\n",
      "INSERT INTO main_Faculty(\"FacultyID\", dept, leaves_remaining, permission_level) VALUES (12,'CSE', 1, 0);\n",
      "INSERT INTO main_Faculty(\"FacultyID\", dept, leaves_remaining, permission_level) VALUES (13,'ME', 0, 0);\n",
      "INSERT INTO main_Faculty(\"FacultyID\", dept, leaves_remaining, permission_level) VALUES (14,'ME', 1, 2);\n",
      "INSERT INTO main_Faculty(\"FacultyID\", dept, leaves_remaining, permission_level) VALUES (15,'EE', 4, 0);\n",
      "INSERT INTO main_Faculty(\"FacultyID\", dept, leaves_remaining, permission_level) VALUES (16,'CSE', 1, 0);\n",
      "INSERT INTO main_Faculty(\"FacultyID\", dept, leaves_remaining, permission_level) VALUES (17,'CSE', 4, 0);\n",
      "INSERT INTO main_Faculty(\"FacultyID\", dept, leaves_remaining, permission_level) VALUES (18,'ME', 0, 0);\n",
      "INSERT INTO main_Faculty(\"FacultyID\", dept, leaves_remaining, permission_level) VALUES (19,'CSE', 1, 0);\n",
      "INSERT INTO main_Faculty(\"FacultyID\", dept, leaves_remaining, permission_level) VALUES (20,'EE', 0, 0);\n",
      "INSERT INTO main_Faculty(\"FacultyID\", dept, leaves_remaining, permission_level) VALUES (21,'EE', 4, 0);\n",
      "INSERT INTO main_Faculty(\"FacultyID\", dept, leaves_remaining, permission_level) VALUES (22,'CSE', 3, 0);\n",
      "INSERT INTO main_Faculty(\"FacultyID\", dept, leaves_remaining, permission_level) VALUES (23,'CSE', 0, 1);\n",
      "INSERT INTO main_Faculty(\"FacultyID\", dept, leaves_remaining, permission_level) VALUES (24,'ME', 4, 0);\n",
      "INSERT INTO main_Faculty(\"FacultyID\", dept, leaves_remaining, permission_level) VALUES (25,'ME', 1, 1);\n"
     ]
    }
   ],
   "source": [
    "for i in range(len(special_ids)):\n",
    "    curr = f\"INSERT INTO {appName}_Faculty(\\\"FacultyID\\\", dept, leaves_remaining, permission_level) VALUES ({i+1},'{depts[special_ids[i]-6]}', {leave_rem[special_ids[i]-6]}, {permissions[special_ids[i]-6]});\" \n",
    "    out_str+=curr\n",
    "    print(curr)\n",
    "\n",
    "    \n",
    "print(\"\\n\\n\")\n",
    "for i in range(20):\n",
    "    curr = f\"INSERT INTO {appName}_Faculty(\\\"FacultyID\\\", dept, leaves_remaining, permission_level) VALUES ({uniq_id[i]},'{depts[i]}', {leave_rem[i]}, {permissions[i]});\" \n",
    "    out_str+=curr\n",
    "    print(curr)"
   ]
  },
  {
   "cell_type": "code",
   "execution_count": 29,
   "metadata": {},
   "outputs": [],
   "source": [
    "# level=['0', '1', '2', '3']\n",
    "# fac_ids=list(range(1,21))\n",
    "# random.shuffle(fac_ids)\n",
    "# for i in range(10):\n",
    "#     id1=i+20\n",
    "#     le=random.choice(level)\n",
    "#     print(f'INSERT INTO CrossCutting(CCID, FacultyID, Permission level) VALUES ({id1},{fac_ids[i]},{le});')"
   ]
  },
  {
   "cell_type": "code",
   "execution_count": 30,
   "metadata": {},
   "outputs": [
    {
     "name": "stdout",
     "output_type": "stream",
     "text": [
      "INSERT INTO main_Active_Leave_Entries(id, \"FacultyID\", \"application_date\", starting_date, num_leaves, curr_status) VALUES ( 1, 16,'2020-01-04','2020-01-22',1,0);\n",
      "INSERT INTO main_Active_Leave_Entries(id, \"FacultyID\", \"application_date\", starting_date, num_leaves, curr_status) VALUES ( 2, 7,'2020-01-28','2020-01-07',1,4);\n",
      "INSERT INTO main_Active_Leave_Entries(id, \"FacultyID\", \"application_date\", starting_date, num_leaves, curr_status) VALUES ( 6, 15,'2020-01-02','2020-02-10',2,0);\n",
      "INSERT INTO main_Active_Leave_Entries(id, \"FacultyID\", \"application_date\", starting_date, num_leaves, curr_status) VALUES ( 7, 24,'2020-02-01','2020-01-21',1,3);\n",
      "INSERT INTO main_Active_Leave_Entries(id, \"FacultyID\", \"application_date\", starting_date, num_leaves, curr_status) VALUES ( 8, 25,'2020-02-01','2020-02-19',1,0);\n",
      "INSERT INTO main_Active_Leave_Entries(id, \"FacultyID\", \"application_date\", starting_date, num_leaves, curr_status) VALUES ( 9, 14,'2020-01-06','2020-02-17',1,2);\n",
      "INSERT INTO main_Active_Leave_Entries(id, \"FacultyID\", \"application_date\", starting_date, num_leaves, curr_status) VALUES ( 10, 8,'2020-02-06','2020-02-28',1,3);\n"
     ]
    }
   ],
   "source": [
    "num_entries = 20\n",
    "entry_ids = list(range(1, num_entries+1))\n",
    "status=[0, 1, 2, 3, 4]\n",
    "num_entries = 10\n",
    "fac_ids = random.sample(uniq_id, num_entries)\n",
    "for i in range(num_entries):\n",
    "    fac_id = fac_ids[i]\n",
    "    entryid=i+1\n",
    "    app_date=gen_date().date()\n",
    "    start_date=gen_date().date()\n",
    "    if leave_rem[fac_id-6]>0:\n",
    "        no_of_leaves=random.randint(1, leave_rem[fac_id-6])     \n",
    "    else:\n",
    "        continue\n",
    "    curr_status=random.choice(status)\n",
    "    num = random.randrange(0,5)\n",
    "    description=nouns[num] + ' ' + verbs[num] + ' ' + adj[num] + ' ' + adv[num]\n",
    "    curr = f\"INSERT INTO {appName}_Active_Leave_Entries(id, \\\"FacultyID\\\", \\\"application_date\\\", starting_date, num_leaves, curr_status) VALUES ( {i+1}, {fac_id},'{app_date}','{start_date}',{no_of_leaves},{curr_status});\" \n",
    "    out_str+=curr\n",
    "    print(curr)"
   ]
  },
  {
   "cell_type": "code",
   "execution_count": 31,
   "metadata": {},
   "outputs": [],
   "source": [
    "# for i in range(150):\n",
    "#     id1=random.randint(1,26)\n",
    "#     description=nouns[num] + ' ' + verbs[num] + ' ' + adj[num] + ' ' + adv[num]\n",
    "#     curr = f\"INSERT INTO {appName}_comments(\\\"EntryID\\\", timecreated, body, \\\"FromFacultyID\\\") VALUES ({id1},'{gen_date().date()}','{description}', {random.choice(range(1, 26))});\" \n",
    "#     out_str+=curr\n",
    "#     print(curr)"
   ]
  },
  {
   "cell_type": "code",
   "execution_count": 32,
   "metadata": {},
   "outputs": [
    {
     "name": "stdout",
     "output_type": "stream",
     "text": [
      "INSERT INTO main_Previous_Request_Record(\"id\",\"EntryID\", \"ApplicantID\", starting_date, num_leaves, was_approved) VALUES (1, 22, 11, '2020-01-22', 8, True);INSERT INTO main_Previous_Request_Record(\"id\",\"EntryID\", \"ApplicantID\", starting_date, num_leaves, was_approved) VALUES (2, 22, 16, '2020-02-12', 11, True);INSERT INTO main_Previous_Request_Record(\"id\",\"EntryID\", \"ApplicantID\", starting_date, num_leaves, was_approved) VALUES (3, 24, 11, '2020-02-19', 3, True);INSERT INTO main_Previous_Request_Record(\"id\",\"EntryID\", \"ApplicantID\", starting_date, num_leaves, was_approved) VALUES (4, 15, 23, '2020-01-12', 11, True);INSERT INTO main_Previous_Request_Record(\"id\",\"EntryID\", \"ApplicantID\", starting_date, num_leaves, was_approved) VALUES (5, 20, 11, '2020-01-30', 4, False);INSERT INTO main_Previous_Request_Record(\"id\",\"EntryID\", \"ApplicantID\", starting_date, num_leaves, was_approved) VALUES (6, 2, 24, '2020-01-06', 16, True);INSERT INTO main_Previous_Request_Record(\"id\",\"EntryID\", \"ApplicantID\", starting_date, num_leaves, was_approved) VALUES (7, 11, 9, '2020-02-11', 8, True);INSERT INTO main_Previous_Request_Record(\"id\",\"EntryID\", \"ApplicantID\", starting_date, num_leaves, was_approved) VALUES (8, 12, 13, '2020-02-24', 15, True);INSERT INTO main_Previous_Request_Record(\"id\",\"EntryID\", \"ApplicantID\", starting_date, num_leaves, was_approved) VALUES (9, 7, 12, '2020-01-27', 15, True);INSERT INTO main_Previous_Request_Record(\"id\",\"EntryID\", \"ApplicantID\", starting_date, num_leaves, was_approved) VALUES (10, 4, 18, '2020-01-26', 9, True);INSERT INTO main_Previous_Request_Record(\"id\",\"EntryID\", \"ApplicantID\", starting_date, num_leaves, was_approved) VALUES (11, 2, 8, '2020-02-25', 11, False);INSERT INTO main_Previous_Request_Record(\"id\",\"EntryID\", \"ApplicantID\", starting_date, num_leaves, was_approved) VALUES (12, 19, 15, '2020-02-06', 2, False);INSERT INTO main_Previous_Request_Record(\"id\",\"EntryID\", \"ApplicantID\", starting_date, num_leaves, was_approved) VALUES (13, 5, 16, '2020-02-18', 8, True);INSERT INTO main_Previous_Request_Record(\"id\",\"EntryID\", \"ApplicantID\", starting_date, num_leaves, was_approved) VALUES (14, 2, 7, '2020-02-26', 9, False);INSERT INTO main_Previous_Request_Record(\"id\",\"EntryID\", \"ApplicantID\", starting_date, num_leaves, was_approved) VALUES (15, 23, 11, '2020-02-13', 3, True);INSERT INTO main_Previous_Request_Record(\"id\",\"EntryID\", \"ApplicantID\", starting_date, num_leaves, was_approved) VALUES (16, 20, 19, '2020-01-26', 18, True);INSERT INTO main_Previous_Request_Record(\"id\",\"EntryID\", \"ApplicantID\", starting_date, num_leaves, was_approved) VALUES (17, 6, 14, '2020-02-03', 10, True);INSERT INTO main_Previous_Request_Record(\"id\",\"EntryID\", \"ApplicantID\", starting_date, num_leaves, was_approved) VALUES (18, 11, 7, '2020-02-26', 6, True);INSERT INTO main_Previous_Request_Record(\"id\",\"EntryID\", \"ApplicantID\", starting_date, num_leaves, was_approved) VALUES (19, 25, 20, '2020-02-09', 20, True);INSERT INTO main_Previous_Request_Record(\"id\",\"EntryID\", \"ApplicantID\", starting_date, num_leaves, was_approved) VALUES (20, 17, 17, '2020-01-10', 16, True);INSERT INTO main_Previous_Request_Record(\"id\",\"EntryID\", \"ApplicantID\", starting_date, num_leaves, was_approved) VALUES (21, 9, 19, '2020-02-23', 1, True);INSERT INTO main_Previous_Request_Record(\"id\",\"EntryID\", \"ApplicantID\", starting_date, num_leaves, was_approved) VALUES (22, 22, 10, '2020-02-05', 19, False);INSERT INTO main_Previous_Request_Record(\"id\",\"EntryID\", \"ApplicantID\", starting_date, num_leaves, was_approved) VALUES (23, 11, 18, '2020-02-27', 6, False);INSERT INTO main_Previous_Request_Record(\"id\",\"EntryID\", \"ApplicantID\", starting_date, num_leaves, was_approved) VALUES (24, 13, 23, '2020-02-17', 7, True);INSERT INTO main_Previous_Request_Record(\"id\",\"EntryID\", \"ApplicantID\", starting_date, num_leaves, was_approved) VALUES (25, 10, 15, '2020-01-20', 8, False);INSERT INTO main_Previous_Request_Record(\"id\",\"EntryID\", \"ApplicantID\", starting_date, num_leaves, was_approved) VALUES (26, 19, 11, '2020-01-14', 6, False);INSERT INTO main_Previous_Request_Record(\"id\",\"EntryID\", \"ApplicantID\", starting_date, num_leaves, was_approved) VALUES (27, 7, 7, '2020-01-25', 1, True);INSERT INTO main_Previous_Request_Record(\"id\",\"EntryID\", \"ApplicantID\", starting_date, num_leaves, was_approved) VALUES (29, 7, 15, '2020-01-18', 3, False);INSERT INTO main_Previous_Request_Record(\"id\",\"EntryID\", \"ApplicantID\", starting_date, num_leaves, was_approved) VALUES (30, 21, 14, '2020-01-03', 1, False);INSERT INTO main_Previous_Request_Record(\"id\",\"EntryID\", \"ApplicantID\", starting_date, num_leaves, was_approved) VALUES (31, 2, 8, '2020-01-23', 16, False);INSERT INTO main_Previous_Request_Record(\"id\",\"EntryID\", \"ApplicantID\", starting_date, num_leaves, was_approved) VALUES (32, 7, 22, '2020-01-03', 16, False);INSERT INTO main_Previous_Request_Record(\"id\",\"EntryID\", \"ApplicantID\", starting_date, num_leaves, was_approved) VALUES (33, 21, 6, '2020-02-12', 19, False);INSERT INTO main_Previous_Request_Record(\"id\",\"EntryID\", \"ApplicantID\", starting_date, num_leaves, was_approved) VALUES (34, 6, 25, '2020-02-28', 1, False);INSERT INTO main_Previous_Request_Record(\"id\",\"EntryID\", \"ApplicantID\", starting_date, num_leaves, was_approved) VALUES (35, 13, 18, '2020-01-28', 6, False);INSERT INTO main_Previous_Request_Record(\"id\",\"EntryID\", \"ApplicantID\", starting_date, num_leaves, was_approved) VALUES (36, 10, 6, '2020-02-09', 19, False);INSERT INTO main_Previous_Request_Record(\"id\",\"EntryID\", \"ApplicantID\", starting_date, num_leaves, was_approved) VALUES (37, 7, 7, '2020-02-03', 3, False);INSERT INTO main_Previous_Request_Record(\"id\",\"EntryID\", \"ApplicantID\", starting_date, num_leaves, was_approved) VALUES (39, 8, 15, '2020-01-24', 3, True);INSERT INTO main_Decision_Record(\"id\",\"EntryID\", timecreated, body, \"DecisionMakerID\", is_active, verdict) VALUES (1, 5, '2020-01-19 20:18:04', 'rabbit jumps dirty foolishly.', 14, True, '0');INSERT INTO main_Decision_Record(\"id\",\"EntryID\", timecreated, body, \"DecisionMakerID\", is_active, verdict) VALUES (2, 25, '2020-01-24 09:46:56', 'puppy runs adorable crazily.', 14, True, '1');INSERT INTO main_Decision_Record(\"id\",\"EntryID\", timecreated, body, \"DecisionMakerID\", is_active, verdict) VALUES (3, 9, '2020-02-10 03:28:53', 'girl drives odd merrily.', 14, False, '2');INSERT INTO main_Decision_Record(\"id\",\"EntryID\", timecreated, body, \"DecisionMakerID\", is_active, verdict) VALUES (4, 8, '2020-01-10 14:15:59', 'monkey barfs stupid occasionally.', 14, False, '0');INSERT INTO main_Decision_Record(\"id\",\"EntryID\", timecreated, body, \"DecisionMakerID\", is_active, verdict) VALUES (5, 25, '2020-01-04 06:08:38', 'puppy runs adorable crazily.', 7, False, '2');INSERT INTO main_Decision_Record(\"id\",\"EntryID\", timecreated, body, \"DecisionMakerID\", is_active, verdict) VALUES (7, 7, '2020-02-24 02:29:15', 'car hits clueless dutifully.', 14, True, '2');INSERT INTO main_Decision_Record(\"id\",\"EntryID\", timecreated, body, \"DecisionMakerID\", is_active, verdict) VALUES (8, 8, '2020-01-06 09:33:14', 'car hits clueless dutifully.', 7, True, '1');INSERT INTO main_Decision_Record(\"id\",\"EntryID\", timecreated, body, \"DecisionMakerID\", is_active, verdict) VALUES (9, 23, '2020-01-16 18:32:25', 'monkey barfs stupid occasionally.', 7, True, '0');INSERT INTO main_Decision_Record(\"id\",\"EntryID\", timecreated, body, \"DecisionMakerID\", is_active, verdict) VALUES (14, 16, '2020-01-01 19:37:03', 'rabbit jumps dirty foolishly.', 7, False, '1');INSERT INTO main_Decision_Record(\"id\",\"EntryID\", timecreated, body, \"DecisionMakerID\", is_active, verdict) VALUES (17, 4, '2020-02-21 01:23:04', 'car hits clueless dutifully.', 14, True, '2');INSERT INTO main_Decision_Record(\"id\",\"EntryID\", timecreated, body, \"DecisionMakerID\", is_active, verdict) VALUES (18, 4, '2020-01-05 00:16:09', 'monkey barfs stupid occasionally.', 7, True, '1');INSERT INTO main_Decision_Record(\"id\",\"EntryID\", timecreated, body, \"DecisionMakerID\", is_active, verdict) VALUES (19, 12, '2020-02-27 11:22:13', 'rabbit jumps dirty foolishly.', 14, True, '1');INSERT INTO main_Decision_Record(\"id\",\"EntryID\", timecreated, body, \"DecisionMakerID\", is_active, verdict) VALUES (20, 9, '2020-01-18 03:11:30', 'girl drives odd merrily.', 14, True, '1');INSERT INTO main_Decision_Record(\"id\",\"EntryID\", timecreated, body, \"DecisionMakerID\", is_active, verdict) VALUES (22, 11, '2020-03-02 00:06:17', 'rabbit jumps dirty foolishly.', 14, True, '0');INSERT INTO main_Decision_Record(\"id\",\"EntryID\", timecreated, body, \"DecisionMakerID\", is_active, verdict) VALUES (23, 13, '2020-01-13 08:46:03', 'car hits clueless dutifully.', 7, True, '1');INSERT INTO main_Decision_Record(\"id\",\"EntryID\", timecreated, body, \"DecisionMakerID\", is_active, verdict) VALUES (27, 9, '2020-01-24 04:10:23', 'rabbit jumps dirty foolishly.', 7, False, '2');INSERT INTO main_Decision_Record(\"id\",\"EntryID\", timecreated, body, \"DecisionMakerID\", is_active, verdict) VALUES (29, 9, '2020-02-27 01:08:52', 'monkey barfs stupid occasionally.', 7, True, '2');INSERT INTO main_Decision_Record(\"id\",\"EntryID\", timecreated, body, \"DecisionMakerID\", is_active, verdict) VALUES (32, 8, '2020-02-28 15:10:41', 'rabbit jumps dirty foolishly.', 7, False, '1');INSERT INTO main_Decision_Record(\"id\",\"EntryID\", timecreated, body, \"DecisionMakerID\", is_active, verdict) VALUES (35, 12, '2020-01-19 10:35:47', 'puppy runs adorable crazily.', 14, False, '1');INSERT INTO main_Decision_Record(\"id\",\"EntryID\", timecreated, body, \"DecisionMakerID\", is_active, verdict) VALUES (37, 13, '2020-02-04 06:40:40', 'rabbit jumps dirty foolishly.', 14, True, '0');INSERT INTO main_Decision_Record(\"id\",\"EntryID\", timecreated, body, \"DecisionMakerID\", is_active, verdict) VALUES (38, 19, '2020-01-21 18:22:38', 'girl drives odd merrily.', 7, False, '1');INSERT INTO main_Decision_Record(\"id\",\"EntryID\", timecreated, body, \"DecisionMakerID\", is_active, verdict) VALUES (40, 2, '2020-02-25 23:01:12', 'monkey barfs stupid occasionally.', 7, True, '0');INSERT INTO main_Decision_Record(\"id\",\"EntryID\", timecreated, body, \"DecisionMakerID\", is_active, verdict) VALUES (43, 18, '2020-01-12 22:58:51', 'rabbit jumps dirty foolishly.', 7, False, '0');INSERT INTO main_Decision_Record(\"id\",\"EntryID\", timecreated, body, \"DecisionMakerID\", is_active, verdict) VALUES (46, 5, '2020-02-19 08:26:47', 'girl drives odd merrily.', 7, False, '0');INSERT INTO main_Decision_Record(\"id\",\"EntryID\", timecreated, body, \"DecisionMakerID\", is_active, verdict) VALUES (48, 11, '2020-01-22 13:15:16', 'puppy runs adorable crazily.', 14, True, '1');INSERT INTO main_Decision_Record(\"id\",\"EntryID\", timecreated, body, \"DecisionMakerID\", is_active, verdict) VALUES (50, 13, '2020-02-10 09:42:58', 'monkey barfs stupid occasionally.', 10, True, '1');INSERT INTO main_Decision_Record(\"id\",\"EntryID\", timecreated, body, \"DecisionMakerID\", is_active, verdict) VALUES (51, 6, '2020-02-21 00:41:44', 'puppy runs adorable crazily.', 7, False, '0');INSERT INTO main_Decision_Record(\"id\",\"EntryID\", timecreated, body, \"DecisionMakerID\", is_active, verdict) VALUES (52, 23, '2020-01-16 00:01:52', 'rabbit jumps dirty foolishly.', 7, True, '0');INSERT INTO main_Decision_Record(\"id\",\"EntryID\", timecreated, body, \"DecisionMakerID\", is_active, verdict) VALUES (53, 2, '2020-03-01 03:17:33', 'rabbit jumps dirty foolishly.', 14, False, '2');INSERT INTO main_Decision_Record(\"id\",\"EntryID\", timecreated, body, \"DecisionMakerID\", is_active, verdict) VALUES (55, 21, '2020-02-15 16:50:04', 'car hits clueless dutifully.', 14, True, '2');INSERT INTO main_Decision_Record(\"id\",\"EntryID\", timecreated, body, \"DecisionMakerID\", is_active, verdict) VALUES (57, 25, '2020-01-30 03:34:11', 'monkey barfs stupid occasionally.', 14, False, '0');INSERT INTO main_Decision_Record(\"id\",\"EntryID\", timecreated, body, \"DecisionMakerID\", is_active, verdict) VALUES (62, 11, '2020-01-17 08:04:04', 'girl drives odd merrily.', 14, True, '1');INSERT INTO main_Decision_Record(\"id\",\"EntryID\", timecreated, body, \"DecisionMakerID\", is_active, verdict) VALUES (67, 11, '2020-02-10 09:12:57', 'car hits clueless dutifully.', 14, False, '1');INSERT INTO main_Decision_Record(\"id\",\"EntryID\", timecreated, body, \"DecisionMakerID\", is_active, verdict) VALUES (69, 2, '2020-02-08 17:48:55', 'puppy runs adorable crazily.', 23, True, '1');INSERT INTO main_Decision_Record(\"id\",\"EntryID\", timecreated, body, \"DecisionMakerID\", is_active, verdict) VALUES (70, 20, '2020-02-25 20:26:43', 'monkey barfs stupid occasionally.', 14, True, '1');INSERT INTO main_Decision_Record(\"id\",\"EntryID\", timecreated, body, \"DecisionMakerID\", is_active, verdict) VALUES (76, 18, '2020-02-15 15:35:04', 'girl drives odd merrily.', 23, True, '0');INSERT INTO main_Decision_Record(\"id\",\"EntryID\", timecreated, body, \"DecisionMakerID\", is_active, verdict) VALUES (80, 23, '2020-01-27 19:20:33', 'rabbit jumps dirty foolishly.', 10, True, '2');INSERT INTO auth_user(id, password, is_superuser, username, first_name, last_name, email, is_staff, is_active, date_joined) VALUES ('1', 'dnX48G4hSj', 'false', 'director' , 'James', 'Johnson', 'elRybcNl@iitrpr.ac.in', 'False', 'True', '2020-01-25 08:26:50');INSERT INTO auth_user(id, password, is_superuser, username, first_name, last_name, email, is_staff, is_active, date_joined) VALUES ('2', 'lldKDgAZO6', 'false', 'dean_aa' , 'Daniel', 'Hanna', 'WewCilTe@iitrpr.ac.in', 'False', 'True', '2020-02-27 22:44:57');INSERT INTO auth_user(id, password, is_superuser, username, first_name, last_name, email, is_staff, is_active, date_joined) VALUES ('3', 'h41D7RF6t9', 'false', 'hod_cse' , 'Michael', 'Stinson', 'ngbJAubD@iitrpr.ac.in', 'False', 'True', '2020-02-29 05:49:08');INSERT INTO auth_user(id, password, is_superuser, username, first_name, last_name, email, is_staff, is_active, date_joined) VALUES ('4', 'NtqjtNkqVR', 'false', 'hod_ee' , 'Betty', 'Davis', 'ZmBtfSUw@iitrpr.ac.in', 'False', 'True', '2020-01-20 09:08:20');INSERT INTO auth_user(id, password, is_superuser, username, first_name, last_name, email, is_staff, is_active, date_joined) VALUES ('5', 'NomUtfbAUu', 'false', 'hod_me' , 'Mary', 'Cohan', 'SfyUhivJ@iitrpr.ac.in', 'False', 'True', '2020-02-07 17:59:10');INSERT INTO auth_user(id, password, last_login, is_superuser, username, first_name, last_name, email, is_staff, is_active, date_joined) VALUES ('6', '6ykZGNlOv4',  '2020-01-11 18:20:25', 'false', 'JQHyfvOfvr' , 'Ruby', 'Slattery', 'WwUaKwAv@iitrpr.ac.in', 'false', 'true', '2020-01-15 15:12:45');INSERT INTO auth_user(id, password, last_login, is_superuser, username, first_name, last_name, email, is_staff, is_active, date_joined) VALUES ('7', 'KENio5NQRy',  '2020-01-29 07:44:46', 'false', 'D8g3iRMLyJ' , 'James', 'Johnson', 'elRybcNl@iitrpr.ac.in', 'false', 'true', '2020-01-18 20:45:45');INSERT INTO auth_user(id, password, last_login, is_superuser, username, first_name, last_name, email, is_staff, is_active, date_joined) VALUES ('8', 'yneiLeY5XW',  '2020-01-04 14:02:52', 'false', 'vHr67qPsx1' , 'Stephen', 'Woolwine', 'UYENzkCm@iitrpr.ac.in', 'false', 'true', '2020-01-22 22:11:39');INSERT INTO auth_user(id, password, last_login, is_superuser, username, first_name, last_name, email, is_staff, is_active, date_joined) VALUES ('9', 'HVGX2aIvmN',  '2020-01-25 22:58:21', 'false', 'nRidm5may1' , 'Randy', 'Davis', 'VNFvMkgv@iitrpr.ac.in', 'false', 'true', '2020-01-18 05:34:35');INSERT INTO auth_user(id, password, last_login, is_superuser, username, first_name, last_name, email, is_staff, is_active, date_joined) VALUES ('10', 'Khqh5EteOY',  '2020-01-08 11:06:19', 'false', 'Z7wLQnbctM' , 'Betty', 'Davis', 'ZmBtfSUw@iitrpr.ac.in', 'false', 'true', '2020-02-19 11:41:28');INSERT INTO auth_user(id, password, last_login, is_superuser, username, first_name, last_name, email, is_staff, is_active, date_joined) VALUES ('11', 'LMRWpixjER',  '2020-02-18 06:04:37', 'false', 'JnKITDyjFC' , 'Matthew', 'Gabriele', 'kBqEXYYZ@iitrpr.ac.in', 'false', 'true', '2020-02-12 20:55:08');INSERT INTO auth_user(id, password, last_login, is_superuser, username, first_name, last_name, email, is_staff, is_active, date_joined) VALUES ('12', 'CZAR4OYMoo',  '2020-01-30 00:25:33', 'false', 'zhGNmvwDFC' , 'Viola', 'Huss', 'pdWkoKMT@iitrpr.ac.in', 'false', 'true', '2020-02-15 18:00:37');INSERT INTO auth_user(id, password, last_login, is_superuser, username, first_name, last_name, email, is_staff, is_active, date_joined) VALUES ('13', 'LfuTHwXjJj',  '2020-02-18 21:17:07', 'false', 'Y6USVuUTsp' , 'Randall', 'Lange', 'dfpnvkCw@iitrpr.ac.in', 'false', 'true', '2020-01-10 16:04:57');INSERT INTO auth_user(id, password, last_login, is_superuser, username, first_name, last_name, email, is_staff, is_active, date_joined) VALUES ('14', 'vfbD1lt2LY',  '2020-02-07 22:21:22', 'false', 'tHxJO0JKtR' , 'Daniel', 'Hanna', 'WewCilTe@iitrpr.ac.in', 'false', 'true', '2020-01-25 10:03:44');INSERT INTO auth_user(id, password, last_login, is_superuser, username, first_name, last_name, email, is_staff, is_active, date_joined) VALUES ('15', '3hLAYWHdjS',  '2020-02-15 01:56:06', 'false', 'U15xCM5sSK' , 'Cynthia', 'Johnson', 'qiUColEz@iitrpr.ac.in', 'false', 'true', '2020-02-17 14:26:55');INSERT INTO auth_user(id, password, last_login, is_superuser, username, first_name, last_name, email, is_staff, is_active, date_joined) VALUES ('16', 'P3HTIF5bhq',  '2020-01-28 21:01:44', 'false', 'cDc9tcNr2U' , 'Barry', 'Dennig', 'kgvcQSNn@iitrpr.ac.in', 'false', 'true', '2020-01-06 17:24:24');INSERT INTO auth_user(id, password, last_login, is_superuser, username, first_name, last_name, email, is_staff, is_active, date_joined) VALUES ('17', '1Jgrgj7dEe',  '2020-02-18 20:10:50', 'false', 'gluxCLBZKD' , 'Sheila', 'Schechter', 'FysiWwpF@iitrpr.ac.in', 'false', 'true', '2020-02-16 09:14:09');INSERT INTO auth_user(id, password, last_login, is_superuser, username, first_name, last_name, email, is_staff, is_active, date_joined) VALUES ('18', 'jorDBh9cZM',  '2020-02-01 14:32:46', 'false', '9EyUQIJ6R9' , 'Miles', 'Byrd', 'AulwnMwQ@iitrpr.ac.in', 'false', 'true', '2020-02-19 06:09:00');INSERT INTO auth_user(id, password, last_login, is_superuser, username, first_name, last_name, email, is_staff, is_active, date_joined) VALUES ('19', 'cooaPj6DSD',  '2020-01-07 01:31:15', 'false', 'hiS9cpNL3X' , 'Lindsay', 'Jackson', 'KynNrbDl@iitrpr.ac.in', 'false', 'true', '2020-02-07 18:22:17');INSERT INTO auth_user(id, password, last_login, is_superuser, username, first_name, last_name, email, is_staff, is_active, date_joined) VALUES ('20', '9rbbsxWELy',  '2020-01-28 06:16:07', 'false', 'fIFZfKPKVy' , 'Richelle', 'Mack', 'GAnncVFf@iitrpr.ac.in', 'false', 'true', '2020-02-25 17:56:19');INSERT INTO auth_user(id, password, last_login, is_superuser, username, first_name, last_name, email, is_staff, is_active, date_joined) VALUES ('21', '0pjtXFTnuI',  '2020-01-07 10:28:15', 'false', 'B7tSQgSjGz' , 'Carolyn', 'Mizutani', 'zAdYWtyF@iitrpr.ac.in', 'false', 'true', '2020-02-27 15:13:41');INSERT INTO auth_user(id, password, last_login, is_superuser, username, first_name, last_name, email, is_staff, is_active, date_joined) VALUES ('22', 'evhCdSvCbb',  '2020-01-22 14:26:34', 'false', 'b3CmGnAUdb' , 'James', 'Belser', 'uJKCuaHS@iitrpr.ac.in', 'false', 'true', '2020-01-07 03:12:15');INSERT INTO auth_user(id, password, last_login, is_superuser, username, first_name, last_name, email, is_staff, is_active, date_joined) VALUES ('23', 'aIlP6XaX7K',  '2020-02-24 01:05:24', 'false', 'O8rGCrgna1' , 'Michael', 'Stinson', 'ngbJAubD@iitrpr.ac.in', 'false', 'true', '2020-02-26 17:08:01');INSERT INTO auth_user(id, password, last_login, is_superuser, username, first_name, last_name, email, is_staff, is_active, date_joined) VALUES ('24', '4g6Q4mLnZP',  '2020-02-20 19:14:56', 'false', 'hHHdHbKQRY' , 'Robert', 'Milliken', 'ynzMgoJI@iitrpr.ac.in', 'false', 'true', '2020-01-02 00:42:03');INSERT INTO auth_user(id, password, last_login, is_superuser, username, first_name, last_name, email, is_staff, is_active, date_joined) VALUES ('25', 'zmxngWiSFj',  '2020-02-04 14:32:31', 'false', 'F5Z1bDK78W' , 'Mary', 'Cohan', 'SfyUhivJ@iitrpr.ac.in', 'false', 'true', '2020-01-28 13:01:09');INSERT INTO main_Faculty(\"FacultyID\", dept, leaves_remaining, permission_level) VALUES (1,'ME', 1, 3);INSERT INTO main_Faculty(\"FacultyID\", dept, leaves_remaining, permission_level) VALUES (2,'ME', 1, 2);INSERT INTO main_Faculty(\"FacultyID\", dept, leaves_remaining, permission_level) VALUES (3,'CSE', 0, 1);INSERT INTO main_Faculty(\"FacultyID\", dept, leaves_remaining, permission_level) VALUES (4,'ME', 0, 1);INSERT INTO main_Faculty(\"FacultyID\", dept, leaves_remaining, permission_level) VALUES (5,'ME', 1, 1);INSERT INTO main_Faculty(\"FacultyID\", dept, leaves_remaining, permission_level) VALUES (6,'CSE', 7, 0);INSERT INTO main_Faculty(\"FacultyID\", dept, leaves_remaining, permission_level) VALUES (7,'ME', 1, 3);INSERT INTO main_Faculty(\"FacultyID\", dept, leaves_remaining, permission_level) VALUES (8,'CSE', 1, 0);INSERT INTO main_Faculty(\"FacultyID\", dept, leaves_remaining, permission_level) VALUES (9,'ME', 1, 0);INSERT INTO main_Faculty(\"FacultyID\", dept, leaves_remaining, permission_level) VALUES (10,'ME', 0, 1);INSERT INTO main_Faculty(\"FacultyID\", dept, leaves_remaining, permission_level) VALUES (11,'EE', 1, 0);INSERT INTO main_Faculty(\"FacultyID\", dept, leaves_remaining, permission_level) VALUES (12,'CSE', 1, 0);INSERT INTO main_Faculty(\"FacultyID\", dept, leaves_remaining, permission_level) VALUES (13,'ME', 0, 0);INSERT INTO main_Faculty(\"FacultyID\", dept, leaves_remaining, permission_level) VALUES (14,'ME', 1, 2);INSERT INTO main_Faculty(\"FacultyID\", dept, leaves_remaining, permission_level) VALUES (15,'EE', 4, 0);INSERT INTO main_Faculty(\"FacultyID\", dept, leaves_remaining, permission_level) VALUES (16,'CSE', 1, 0);INSERT INTO main_Faculty(\"FacultyID\", dept, leaves_remaining, permission_level) VALUES (17,'CSE', 4, 0);INSERT INTO main_Faculty(\"FacultyID\", dept, leaves_remaining, permission_level) VALUES (18,'ME', 0, 0);INSERT INTO main_Faculty(\"FacultyID\", dept, leaves_remaining, permission_level) VALUES (19,'CSE', 1, 0);INSERT INTO main_Faculty(\"FacultyID\", dept, leaves_remaining, permission_level) VALUES (20,'EE', 0, 0);INSERT INTO main_Faculty(\"FacultyID\", dept, leaves_remaining, permission_level) VALUES (21,'EE', 4, 0);INSERT INTO main_Faculty(\"FacultyID\", dept, leaves_remaining, permission_level) VALUES (22,'CSE', 3, 0);INSERT INTO main_Faculty(\"FacultyID\", dept, leaves_remaining, permission_level) VALUES (23,'CSE', 0, 1);INSERT INTO main_Faculty(\"FacultyID\", dept, leaves_remaining, permission_level) VALUES (24,'ME', 4, 0);INSERT INTO main_Faculty(\"FacultyID\", dept, leaves_remaining, permission_level) VALUES (25,'ME', 1, 1);INSERT INTO main_Active_Leave_Entries(id, \"FacultyID\", \"application_date\", starting_date, num_leaves, curr_status) VALUES ( 1, 16,'2020-01-04','2020-01-22',1,0);INSERT INTO main_Active_Leave_Entries(id, \"FacultyID\", \"application_date\", starting_date, num_leaves, curr_status) VALUES ( 2, 7,'2020-01-28','2020-01-07',1,4);INSERT INTO main_Active_Leave_Entries(id, \"FacultyID\", \"application_date\", starting_date, num_leaves, curr_status) VALUES ( 6, 15,'2020-01-02','2020-02-10',2,0);INSERT INTO main_Active_Leave_Entries(id, \"FacultyID\", \"application_date\", starting_date, num_leaves, curr_status) VALUES ( 7, 24,'2020-02-01','2020-01-21',1,3);INSERT INTO main_Active_Leave_Entries(id, \"FacultyID\", \"application_date\", starting_date, num_leaves, curr_status) VALUES ( 8, 25,'2020-02-01','2020-02-19',1,0);INSERT INTO main_Active_Leave_Entries(id, \"FacultyID\", \"application_date\", starting_date, num_leaves, curr_status) VALUES ( 9, 14,'2020-01-06','2020-02-17',1,2);INSERT INTO main_Active_Leave_Entries(id, \"FacultyID\", \"application_date\", starting_date, num_leaves, curr_status) VALUES ( 10, 8,'2020-02-06','2020-02-28',1,3);\n"
     ]
    }
   ],
   "source": [
    "print(out_str)"
   ]
  },
  {
   "cell_type": "code",
   "execution_count": 43,
   "metadata": {},
   "outputs": [],
   "source": [
    "password = []\n",
    "userid = []\n",
    "strpass = \"\"\n",
    "struser = \"\"\n",
    "for (passw, userd) in zip(special_pass, position[0:-1]):\n",
    "    strpass +=  \"'\"+passw + \"' ,\"\n",
    "    struser += \"'\"+userd + \"',\"\n",
    "    \n",
    "for i in range(20):\n",
    "    password.append(get_random_string())\n",
    "    userid.append(i+1)\n",
    "\n",
    "for (passw, userd) in zip(password, user_id):\n",
    "    strpass +=  \"'\"+passw + \"' ,\"\n",
    "    struser += \"'\" + userd + \"',\""
   ]
  },
  {
   "cell_type": "code",
   "execution_count": 48,
   "metadata": {},
   "outputs": [
    {
     "name": "stdout",
     "output_type": "stream",
     "text": [
      "passwords = ['dnX48G4hSj' ,'lldKDgAZO6' ,'h41D7RF6t9' ,'NtqjtNkqVR' ,'NomUtfbAUu' ,'m1kxmGUQFh' ,'qm9oiPKCIx' ,'D1baeB7BCX' ,'TuEfJELEma' ,'J0H2BIv7oz' ,'SbkW6Inore' ,'VZS2Q9rZUK' ,'lNrSvd4MzX' ,'HVOOjSV1aZ' ,'Hv0FOEWsqV' ,'14MJwRwuFp' ,'V2OUud1xMT' ,'aDJ6IWPr6z' ,'gddRaqLT4V' ,'E6zNeDEWks' ,'eedwX9shQZ' ,'1KF18PUQ6n' ,'5o60bNiWbP' ,'8qYuR4LVZP' ,'dB3qeY2Fmj' ,]\n",
      "\n",
      "usernames = ['director','dean_aa','hod_cse','hod_ee','hod_me','JQHyfvOfvr','D8g3iRMLyJ','vHr67qPsx1','nRidm5may1','Z7wLQnbctM','JnKITDyjFC','zhGNmvwDFC','Y6USVuUTsp','tHxJO0JKtR','U15xCM5sSK','cDc9tcNr2U','gluxCLBZKD','9EyUQIJ6R9','hiS9cpNL3X','fIFZfKPKVy','B7tSQgSjGz','b3CmGnAUdb','O8rGCrgna1','hHHdHbKQRY','F5Z1bDK78W',]\n"
     ]
    }
   ],
   "source": [
    "print(f\"passwords = [{strpass}]\")\n",
    "print(f\"\\nusernames = [{struser}]\")"
   ]
  },
  {
   "cell_type": "code",
   "execution_count": 54,
   "metadata": {},
   "outputs": [],
   "source": [
    "string = \"\"\n",
    "for val in range(10, 10+int(55/2)):\n",
    "    string += str(val)"
   ]
  },
  {
   "cell_type": "code",
   "execution_count": 55,
   "metadata": {},
   "outputs": [
    {
     "data": {
      "text/plain": [
       "'101112131415161718192021222324252627282930313233343536'"
      ]
     },
     "execution_count": 55,
     "metadata": {},
     "output_type": "execute_result"
    }
   ],
   "source": [
    "string"
   ]
  }
 ],
 "metadata": {
  "kernelspec": {
   "display_name": "Python 3",
   "language": "python",
   "name": "python3"
  },
  "language_info": {
   "codemirror_mode": {
    "name": "ipython",
    "version": 3
   },
   "file_extension": ".py",
   "mimetype": "text/x-python",
   "name": "python",
   "nbconvert_exporter": "python",
   "pygments_lexer": "ipython3",
   "version": "3.8.5"
  }
 },
 "nbformat": 4,
 "nbformat_minor": 4
}
