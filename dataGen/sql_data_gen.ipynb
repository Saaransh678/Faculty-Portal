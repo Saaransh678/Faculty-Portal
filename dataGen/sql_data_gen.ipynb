{
 "cells": [
  {
   "cell_type": "code",
   "execution_count": 2,
   "metadata": {},
   "outputs": [],
   "source": [
    "import random\n",
    "import names\n",
    "import datetime\n",
    "from random import randrange\n",
    "from datetime import timezone\n",
    "import random\n",
    "import string"
   ]
  },
  {
   "cell_type": "code",
   "execution_count": 3,
   "metadata": {},
   "outputs": [],
   "source": [
    "department=['CSE', 'EE', 'ME'  ]\n",
    "rev_dict = {'CSE': 0,'EE':1, 'ME': 2}\n",
    "num_basic = 20\n",
    "Max_Leaves = 20\n",
    "appName = \"main\"\n",
    "out_str = \"\""
   ]
  },
  {
   "cell_type": "code",
   "execution_count": 4,
   "metadata": {},
   "outputs": [],
   "source": [
    "def get_random_string(length = 10, val = False):\n",
    "    if val:\n",
    "        letters = string.ascii_letters\n",
    "    else:\n",
    "        letters = string.ascii_letters +string.digits\n",
    "    result_str = ''.join(random.choice(letters) for i in range(length))\n",
    "    return result_str\n",
    "\n",
    "def gen_date():\n",
    "    start_date = datetime.datetime(2020, 1, 1, 0, 0, 0)\n",
    "    end_date = datetime.datetime(2020, 3, 1, 23, 59, 59)\n",
    "    time_st = start_date.replace(tzinfo=timezone.utc).timestamp()\n",
    "    time_en = end_date.replace(tzinfo=timezone.utc).timestamp()\n",
    "    delta = randrange(time_en - time_st)\n",
    "    rand_date = datetime.datetime.fromtimestamp(time_st+delta)\n",
    "    return rand_date"
   ]
  },
  {
   "cell_type": "code",
   "execution_count": 311,
   "metadata": {},
   "outputs": [],
   "source": [
    "uniq_id = []\n",
    "user_id = []\n",
    "first_names = []\n",
    "last_names = []\n",
    "depts = []\n",
    "leave_rem = []\n",
    "password = []\n",
    "emails = []\n",
    "permissions = []\n",
    "\n",
    "for i in range(num_basic):\n",
    "    uniq_id.append(i+1)\n",
    "    user_id.append(get_random_string())\n",
    "    first_names.append(names.get_first_name())\n",
    "    last_names.append(names.get_last_name())\n",
    "    depts.append(random.choice(department))\n",
    "    leave_rem.append(Max_Leaves)\n",
    "    password.append(get_random_string())\n",
    "    emails.append(get_random_string(8, val = True)+'@iitrpr.ac.in')\n",
    "    permissions.append(0)\n",
    "\n",
    "# uniq_id, user_id, first_names, last_names, depts, leave_rem, password, emails"
   ]
  },
  {
   "cell_type": "code",
   "execution_count": 312,
   "metadata": {},
   "outputs": [],
   "source": [
    "# special ids\n",
    "level=['0', '1', '2', '3']\n",
    "position = ['basic', 'hod_cse', 'hod_ee', 'hod_me', 'dean_aa', 'director']\n",
    "level = [0, 1, 1, 1, 2, 3]\n",
    "special_ids = random.sample(uniq_id, len(position)-1)\n",
    "special_pass = []\n",
    "for i in range(len(positition)-1):\n",
    "    special_pass.append(get_random_string())\n",
    "    permissions[special_ids[i]-1] = level[i+1]"
   ]
  },
  {
   "cell_type": "code",
   "execution_count": 313,
   "metadata": {
    "scrolled": true
   },
   "outputs": [
    {
     "name": "stdout",
     "output_type": "stream",
     "text": [
      "INSERT INTO main_Previous_Record(\"ApplicantID\", \"DecisionMakerID\", starting_date, num_leaves, decisiondate, was_approved) VALUES (16, 14, '2020-02-17', 14, '2020-01-01', False);\n",
      "INSERT INTO main_Previous_Record(\"ApplicantID\", \"DecisionMakerID\", starting_date, num_leaves, decisiondate, was_approved) VALUES (6, 3, '2020-02-15', 3, '2020-02-27', True);\n",
      "INSERT INTO main_Previous_Record(\"ApplicantID\", \"DecisionMakerID\", starting_date, num_leaves, decisiondate, was_approved) VALUES (19, 3, '2020-02-03', 13, '2020-02-14', False);\n",
      "INSERT INTO main_Previous_Record(\"ApplicantID\", \"DecisionMakerID\", starting_date, num_leaves, decisiondate, was_approved) VALUES (15, 3, '2020-02-20', 8, '2020-02-07', False);\n",
      "INSERT INTO main_Previous_Record(\"ApplicantID\", \"DecisionMakerID\", starting_date, num_leaves, decisiondate, was_approved) VALUES (4, 14, '2020-02-08', 14, '2020-02-15', False);\n",
      "INSERT INTO main_Previous_Record(\"ApplicantID\", \"DecisionMakerID\", starting_date, num_leaves, decisiondate, was_approved) VALUES (4, 10, '2020-01-10', 9, '2020-01-08', False);\n",
      "INSERT INTO main_Previous_Record(\"ApplicantID\", \"DecisionMakerID\", starting_date, num_leaves, decisiondate, was_approved) VALUES (10, 14, '2020-01-10', 7, '2020-01-29', False);\n",
      "INSERT INTO main_Previous_Record(\"ApplicantID\", \"DecisionMakerID\", starting_date, num_leaves, decisiondate, was_approved) VALUES (20, 14, '2020-03-01', 17, '2020-02-12', False);\n",
      "INSERT INTO main_Previous_Record(\"ApplicantID\", \"DecisionMakerID\", starting_date, num_leaves, decisiondate, was_approved) VALUES (8, 3, '2020-01-31', 10, '2020-02-20', True);\n",
      "INSERT INTO main_Previous_Record(\"ApplicantID\", \"DecisionMakerID\", starting_date, num_leaves, decisiondate, was_approved) VALUES (16, 14, '2020-01-20', 20, '2020-02-01', False);\n",
      "INSERT INTO main_Previous_Record(\"ApplicantID\", \"DecisionMakerID\", starting_date, num_leaves, decisiondate, was_approved) VALUES (12, 3, '2020-01-31', 16, '2020-02-17', True);\n",
      "INSERT INTO main_Previous_Record(\"ApplicantID\", \"DecisionMakerID\", starting_date, num_leaves, decisiondate, was_approved) VALUES (15, 3, '2020-02-11', 4, '2020-01-09', False);\n",
      "INSERT INTO main_Previous_Record(\"ApplicantID\", \"DecisionMakerID\", starting_date, num_leaves, decisiondate, was_approved) VALUES (7, 14, '2020-02-15', 4, '2020-02-28', False);\n",
      "INSERT INTO main_Previous_Record(\"ApplicantID\", \"DecisionMakerID\", starting_date, num_leaves, decisiondate, was_approved) VALUES (2, 10, '2020-02-04', 3, '2020-01-28', False);\n",
      "INSERT INTO main_Previous_Record(\"ApplicantID\", \"DecisionMakerID\", starting_date, num_leaves, decisiondate, was_approved) VALUES (9, 3, '2020-02-01', 6, '2020-02-16', True);\n",
      "INSERT INTO main_Previous_Record(\"ApplicantID\", \"DecisionMakerID\", starting_date, num_leaves, decisiondate, was_approved) VALUES (13, 3, '2020-01-06', 4, '2020-01-11', False);\n",
      "INSERT INTO main_Previous_Record(\"ApplicantID\", \"DecisionMakerID\", starting_date, num_leaves, decisiondate, was_approved) VALUES (9, 3, '2020-01-12', 4, '2020-02-03', True);\n",
      "INSERT INTO main_Previous_Record(\"ApplicantID\", \"DecisionMakerID\", starting_date, num_leaves, decisiondate, was_approved) VALUES (15, 3, '2020-02-19', 11, '2020-01-22', True);\n",
      "INSERT INTO main_Previous_Record(\"ApplicantID\", \"DecisionMakerID\", starting_date, num_leaves, decisiondate, was_approved) VALUES (4, 14, '2020-02-11', 17, '2020-02-07', False);\n",
      "INSERT INTO main_Previous_Record(\"ApplicantID\", \"DecisionMakerID\", starting_date, num_leaves, decisiondate, was_approved) VALUES (14, 14, '2020-01-21', 16, '2020-01-08', True);\n"
     ]
    }
   ],
   "source": [
    "for i in range(20):\n",
    "    timestamp=random.uniform(0,10)\n",
    "    was_approved = random.choice([True, False])\n",
    "    applicant = random.choice(uniq_id)\n",
    "    num_leaves = random.randint(1, leave_rem[applicant-1])\n",
    "    signedby = -1\n",
    "    if applicant in special_ids:\n",
    "        signedby = special_ids[-1]\n",
    "        if was_approved == True:\n",
    "            leave_rem[applicant-1] -= num_leaves\n",
    "            \n",
    "    elif was_approved == True:\n",
    "        leave_rem[applicant-1] -= num_leaves\n",
    "        signedby = special_ids[-2]\n",
    "            \n",
    "    else:\n",
    "        signedby = random.choice([special_ids[-1], special_ids[rev_dict[depts[applicant-1]]+1]])\n",
    "    if leave_rem[applicant-1] <0:\n",
    "        num_leaves += leave_rem[applicant-1]\n",
    "        leave_rem[applicant-1]=0\n",
    "    \n",
    "    curr = f\"INSERT INTO {appName}_Previous_Record(\\\"ApplicantID\\\", \\\"DecisionMakerID\\\", starting_date, num_leaves, decisiondate, was_approved) VALUES ({applicant}, {signedby}, '{gen_date().date()}', {num_leaves}, '{gen_date().date()}', {was_approved});\"\n",
    "    out_str += curr\n",
    "    print(curr)"
   ]
  },
  {
   "cell_type": "code",
   "execution_count": 314,
   "metadata": {},
   "outputs": [
    {
     "name": "stdout",
     "output_type": "stream",
     "text": [
      "INSERT INTO auth_user(id, password, last_login, is_superuser, username, first_name, last_name, email, is_staff, is_active, date_joined) VALUES ('1', 'jDXaeS4PWc',  '2020-02-17 20:27:17', 'false', 'fqF5zTtE8l' , 'Gladys', 'Graham', 'XvTqILcX@iitrpr.ac.in', 'false', 'true', '2020-01-10 21:06:17');\n",
      "INSERT INTO auth_user(id, password, last_login, is_superuser, username, first_name, last_name, email, is_staff, is_active, date_joined) VALUES ('2', 'asIeHfAett',  '2020-03-01 16:12:47', 'false', 'RRHGiynHEH' , 'Judith', 'Ray', 'pTcTTvzj@iitrpr.ac.in', 'false', 'true', '2020-02-28 13:22:14');\n",
      "INSERT INTO auth_user(id, password, last_login, is_superuser, username, first_name, last_name, email, is_staff, is_active, date_joined) VALUES ('3', 'fdocE8ZisA',  '2020-01-21 22:40:08', 'false', '66E9cozk0i' , 'Russell', 'Dumais', 'IGEgsLap@iitrpr.ac.in', 'false', 'true', '2020-02-18 17:06:43');\n",
      "INSERT INTO auth_user(id, password, last_login, is_superuser, username, first_name, last_name, email, is_staff, is_active, date_joined) VALUES ('4', 'nB523OflRy',  '2020-01-02 01:59:15', 'false', 'haT5tOIlyS' , 'Hubert', 'Drawdy', 'uAayBmQN@iitrpr.ac.in', 'false', 'true', '2020-02-07 08:09:38');\n",
      "INSERT INTO auth_user(id, password, last_login, is_superuser, username, first_name, last_name, email, is_staff, is_active, date_joined) VALUES ('5', 'bFtrciH7BV',  '2020-01-24 03:43:49', 'false', 'T4hWpnBjAb' , 'Ira', 'Lovett', 'PMvzSNIs@iitrpr.ac.in', 'false', 'true', '2020-03-02 00:32:50');\n",
      "INSERT INTO auth_user(id, password, last_login, is_superuser, username, first_name, last_name, email, is_staff, is_active, date_joined) VALUES ('6', 'y5wovH6CXv',  '2020-02-20 13:28:44', 'false', 'zdAqmw5bXL' , 'Sandra', 'Wiliams', 'ZhorvrUv@iitrpr.ac.in', 'false', 'true', '2020-02-27 13:23:25');\n",
      "INSERT INTO auth_user(id, password, last_login, is_superuser, username, first_name, last_name, email, is_staff, is_active, date_joined) VALUES ('7', 'P4LO9bL1hl',  '2020-01-31 14:49:14', 'false', 'VvuNypIEem' , 'Irene', 'Yung', 'rcEouERA@iitrpr.ac.in', 'false', 'true', '2020-02-23 10:26:17');\n",
      "INSERT INTO auth_user(id, password, last_login, is_superuser, username, first_name, last_name, email, is_staff, is_active, date_joined) VALUES ('8', 'vHBSS4g5G6',  '2020-01-02 09:17:51', 'false', 'aB1umpsFsU' , 'Jennifer', 'Billups', 'veeQtHHP@iitrpr.ac.in', 'false', 'true', '2020-02-04 05:15:22');\n",
      "INSERT INTO auth_user(id, password, last_login, is_superuser, username, first_name, last_name, email, is_staff, is_active, date_joined) VALUES ('9', 'pLLydh8YDG',  '2020-01-06 22:59:43', 'false', 'MkGPsikwrn' , 'Katherine', 'Harrington', 'cAxRmvZo@iitrpr.ac.in', 'false', 'true', '2020-01-16 00:42:27');\n",
      "INSERT INTO auth_user(id, password, last_login, is_superuser, username, first_name, last_name, email, is_staff, is_active, date_joined) VALUES ('10', 'rZfpBvG7dR',  '2020-01-23 07:18:15', 'false', 'bkdDx2eqlt' , 'Lana', 'Lewis', 'BNrMsRVS@iitrpr.ac.in', 'false', 'true', '2020-01-07 03:24:47');\n",
      "INSERT INTO auth_user(id, password, last_login, is_superuser, username, first_name, last_name, email, is_staff, is_active, date_joined) VALUES ('11', 'TrfybSL4u9',  '2020-02-11 22:31:13', 'false', 'GYPGKz6Bk8' , 'Robbie', 'Duffy', 'AvhdENcv@iitrpr.ac.in', 'false', 'true', '2020-02-28 13:16:30');\n",
      "INSERT INTO auth_user(id, password, last_login, is_superuser, username, first_name, last_name, email, is_staff, is_active, date_joined) VALUES ('12', 'w3LkjI12Tn',  '2020-02-02 22:27:47', 'false', 'AYQnEkZZIn' , 'Elois', 'Patterson', 'TAsWRqwx@iitrpr.ac.in', 'false', 'true', '2020-01-11 21:45:03');\n",
      "INSERT INTO auth_user(id, password, last_login, is_superuser, username, first_name, last_name, email, is_staff, is_active, date_joined) VALUES ('13', 'TeCjQ8LAYe',  '2020-02-08 02:18:33', 'false', '8Kom3Hdzlf' , 'William', 'Hayden', 'bVSMhfFE@iitrpr.ac.in', 'false', 'true', '2020-01-13 06:18:18');\n",
      "INSERT INTO auth_user(id, password, last_login, is_superuser, username, first_name, last_name, email, is_staff, is_active, date_joined) VALUES ('14', 'EB7LoYn19z',  '2020-01-24 14:15:06', 'false', 'pS9hlqS2ot' , 'Janice', 'Thompson', 'kTbfWaEW@iitrpr.ac.in', 'false', 'true', '2020-02-10 09:54:14');\n",
      "INSERT INTO auth_user(id, password, last_login, is_superuser, username, first_name, last_name, email, is_staff, is_active, date_joined) VALUES ('15', 'cH7CfY2iVF',  '2020-01-27 00:58:50', 'false', 'Lc3RU6krLk' , 'Lucy', 'Hill', 'UUSuzfaZ@iitrpr.ac.in', 'false', 'true', '2020-01-17 19:28:25');\n",
      "INSERT INTO auth_user(id, password, last_login, is_superuser, username, first_name, last_name, email, is_staff, is_active, date_joined) VALUES ('16', '9gx3gdqYvV',  '2020-01-05 03:56:32', 'false', 'JpSxPfJkTg' , 'Donna', 'Webb', 'UmHSkTXr@iitrpr.ac.in', 'false', 'true', '2020-02-28 08:54:53');\n",
      "INSERT INTO auth_user(id, password, last_login, is_superuser, username, first_name, last_name, email, is_staff, is_active, date_joined) VALUES ('17', 'DEjpTRvwL6',  '2020-01-26 19:28:15', 'false', 'aAQuTHT1tw' , 'Bernice', 'Jackson', 'CveWKEIE@iitrpr.ac.in', 'false', 'true', '2020-02-13 05:54:21');\n",
      "INSERT INTO auth_user(id, password, last_login, is_superuser, username, first_name, last_name, email, is_staff, is_active, date_joined) VALUES ('18', 'FOie8Z2hed',  '2020-01-07 08:38:12', 'false', 'AklrHg11VL' , 'Allison', 'Zins', 'NyqzZyUQ@iitrpr.ac.in', 'false', 'true', '2020-02-25 09:18:06');\n",
      "INSERT INTO auth_user(id, password, last_login, is_superuser, username, first_name, last_name, email, is_staff, is_active, date_joined) VALUES ('19', '7Gk2fopUvQ',  '2020-01-05 07:04:31', 'false', 'URM1rZxLee' , 'Andrea', 'Stark', 'fXMTWSWI@iitrpr.ac.in', 'false', 'true', '2020-01-16 23:35:42');\n",
      "INSERT INTO auth_user(id, password, last_login, is_superuser, username, first_name, last_name, email, is_staff, is_active, date_joined) VALUES ('20', 'rudrjdrAIO',  '2020-02-02 03:59:42', 'false', 'c2T61xfwDk' , 'Richard', 'Sanders', 'VBkxzCTm@iitrpr.ac.in', 'false', 'true', '2020-02-14 15:16:42');\n",
      "\n",
      "\n",
      "\n",
      "INSERT INTO auth_user(password, is_superuser, username, first_name, last_name, email, is_staff, is_active, date_joined) VALUES ('wrIh3o5x1p', 'false', 'hod_cse' , 'Allison', 'Zins', 'NyqzZyUQ@iitrpr.ac.in', 'False', 'True', '2020-01-15 17:06:32');\n",
      "INSERT INTO auth_user(password, is_superuser, username, first_name, last_name, email, is_staff, is_active, date_joined) VALUES ('7T6xKZG8TG', 'false', 'hod_ee' , 'Lana', 'Lewis', 'BNrMsRVS@iitrpr.ac.in', 'False', 'True', '2020-02-06 07:51:19');\n",
      "INSERT INTO auth_user(password, is_superuser, username, first_name, last_name, email, is_staff, is_active, date_joined) VALUES ('zbOTbn9sMB', 'false', 'hod_me' , 'Donna', 'Webb', 'UmHSkTXr@iitrpr.ac.in', 'False', 'True', '2020-02-20 13:20:22');\n",
      "INSERT INTO auth_user(password, is_superuser, username, first_name, last_name, email, is_staff, is_active, date_joined) VALUES ('QOS7B0SZCU', 'false', 'dean_aa' , 'Russell', 'Dumais', 'IGEgsLap@iitrpr.ac.in', 'False', 'True', '2020-02-20 21:13:51');\n",
      "INSERT INTO auth_user(password, is_superuser, username, first_name, last_name, email, is_staff, is_active, date_joined) VALUES ('5MJpApUJOo', 'false', 'director' , 'Janice', 'Thompson', 'kTbfWaEW@iitrpr.ac.in', 'False', 'True', '2020-01-13 11:04:53');\n"
     ]
    }
   ],
   "source": [
    "for i in range(num_basic):\n",
    "    date_a = gen_date()\n",
    "    date_b = gen_date()\n",
    "    curr = f\"INSERT INTO auth_user(id, password, last_login, is_superuser, username, first_name, last_name, email, is_staff, is_active, date_joined) VALUES ('{uniq_id[i]}', '{password[i]}',  '{date_a}', 'false', '{user_id[i]}' , '{first_names[i]}', '{last_names[i]}', '{emails[i]}', 'false', 'true', '{date_b}');\" \n",
    "    out_str+=curr\n",
    "    print(curr)\n",
    "    \n",
    "print(\"\\n\\n\")\n",
    "    \n",
    "for i in range(1, len(position)):\n",
    "    curr = f\"INSERT INTO auth_user(password, is_superuser, username, first_name, last_name, email, is_staff, is_active, date_joined) VALUES ('{special_pass[i-1]}', 'false', '{position[i]}' , '{first_names[special_ids[i-1]-1]}', '{last_names[special_ids[i-1]-1]}', '{emails[special_ids[i-1]-1]}', 'False', 'True', '{gen_date()}');\" \n",
    "    out_str+=curr\n",
    "    print(curr)"
   ]
  },
  {
   "cell_type": "code",
   "execution_count": 315,
   "metadata": {},
   "outputs": [
    {
     "data": {
      "text/plain": [
       "[18, 10, 16, 3, 14]"
      ]
     },
     "execution_count": 315,
     "metadata": {},
     "output_type": "execute_result"
    }
   ],
   "source": [
    "special_ids"
   ]
  },
  {
   "cell_type": "code",
   "execution_count": 316,
   "metadata": {},
   "outputs": [
    {
     "name": "stdout",
     "output_type": "stream",
     "text": [
      "INSERT INTO main_Faculty(\"FacultyID\", dept, leaves_remaining, permission_level) VALUES (1,'ME', 20, 0);\n",
      "INSERT INTO main_Faculty(\"FacultyID\", dept, leaves_remaining, permission_level) VALUES (2,'CSE', 20, 0);\n",
      "INSERT INTO main_Faculty(\"FacultyID\", dept, leaves_remaining, permission_level) VALUES (3,'CSE', 20, 2);\n",
      "INSERT INTO main_Faculty(\"FacultyID\", dept, leaves_remaining, permission_level) VALUES (4,'CSE', 20, 0);\n",
      "INSERT INTO main_Faculty(\"FacultyID\", dept, leaves_remaining, permission_level) VALUES (5,'EE', 20, 0);\n",
      "INSERT INTO main_Faculty(\"FacultyID\", dept, leaves_remaining, permission_level) VALUES (6,'ME', 17, 0);\n",
      "INSERT INTO main_Faculty(\"FacultyID\", dept, leaves_remaining, permission_level) VALUES (7,'CSE', 20, 0);\n",
      "INSERT INTO main_Faculty(\"FacultyID\", dept, leaves_remaining, permission_level) VALUES (8,'EE', 10, 0);\n",
      "INSERT INTO main_Faculty(\"FacultyID\", dept, leaves_remaining, permission_level) VALUES (9,'CSE', 10, 0);\n",
      "INSERT INTO main_Faculty(\"FacultyID\", dept, leaves_remaining, permission_level) VALUES (10,'ME', 20, 1);\n",
      "INSERT INTO main_Faculty(\"FacultyID\", dept, leaves_remaining, permission_level) VALUES (11,'CSE', 20, 0);\n",
      "INSERT INTO main_Faculty(\"FacultyID\", dept, leaves_remaining, permission_level) VALUES (12,'CSE', 4, 0);\n",
      "INSERT INTO main_Faculty(\"FacultyID\", dept, leaves_remaining, permission_level) VALUES (13,'ME', 20, 0);\n",
      "INSERT INTO main_Faculty(\"FacultyID\", dept, leaves_remaining, permission_level) VALUES (14,'EE', 4, 3);\n",
      "INSERT INTO main_Faculty(\"FacultyID\", dept, leaves_remaining, permission_level) VALUES (15,'ME', 9, 0);\n",
      "INSERT INTO main_Faculty(\"FacultyID\", dept, leaves_remaining, permission_level) VALUES (16,'EE', 20, 1);\n",
      "INSERT INTO main_Faculty(\"FacultyID\", dept, leaves_remaining, permission_level) VALUES (17,'ME', 20, 0);\n",
      "INSERT INTO main_Faculty(\"FacultyID\", dept, leaves_remaining, permission_level) VALUES (18,'EE', 20, 1);\n",
      "INSERT INTO main_Faculty(\"FacultyID\", dept, leaves_remaining, permission_level) VALUES (19,'ME', 20, 0);\n",
      "INSERT INTO main_Faculty(\"FacultyID\", dept, leaves_remaining, permission_level) VALUES (20,'ME', 20, 0);\n"
     ]
    }
   ],
   "source": [
    "for i in range(20):\n",
    "    curr = f\"INSERT INTO {appName}_Faculty(\\\"FacultyID\\\", dept, leaves_remaining, permission_level) VALUES ({uniq_id[i]},'{depts[i]}', {leave_rem[i]}, {permissions[i]});\" \n",
    "    out_str+=curr\n",
    "    print(curr)"
   ]
  },
  {
   "cell_type": "code",
   "execution_count": 317,
   "metadata": {},
   "outputs": [],
   "source": [
    "# level=['0', '1', '2', '3']\n",
    "# fac_ids=list(range(1,21))\n",
    "# random.shuffle(fac_ids)\n",
    "# for i in range(10):\n",
    "#     id1=i+20\n",
    "#     le=random.choice(level)\n",
    "#     print(f'INSERT INTO CrossCutting(CCID, FacultyID, Permission level) VALUES ({id1},{fac_ids[i]},{le});')"
   ]
  },
  {
   "cell_type": "code",
   "execution_count": 318,
   "metadata": {},
   "outputs": [
    {
     "name": "stdout",
     "output_type": "stream",
     "text": [
      "INSERT INTO main_Active_Leave_Entries(\"FacultyID\", \"application_date\", starting_date, num_leaves, curr_status, description) VALUES (11,'2020-02-20','2020-01-04',15,0,'rabbit jumps dirty foolishly.');\n",
      "INSERT INTO main_Active_Leave_Entries(\"FacultyID\", \"application_date\", starting_date, num_leaves, curr_status, description) VALUES (2,'2020-02-23','2020-02-14',7,3,'puppy runs adorable crazily.');\n",
      "INSERT INTO main_Active_Leave_Entries(\"FacultyID\", \"application_date\", starting_date, num_leaves, curr_status, description) VALUES (16,'2020-01-21','2020-02-21',9,2,'car hits clueless dutifully.');\n",
      "INSERT INTO main_Active_Leave_Entries(\"FacultyID\", \"application_date\", starting_date, num_leaves, curr_status, description) VALUES (16,'2020-02-26','2020-01-03',10,1,'puppy runs adorable crazily.');\n",
      "INSERT INTO main_Active_Leave_Entries(\"FacultyID\", \"application_date\", starting_date, num_leaves, curr_status, description) VALUES (11,'2020-02-16','2020-01-15',2,1,'rabbit jumps dirty foolishly.');\n",
      "INSERT INTO main_Active_Leave_Entries(\"FacultyID\", \"application_date\", starting_date, num_leaves, curr_status, description) VALUES (7,'2020-01-25','2020-02-20',6,2,'girl drives odd merrily.');\n",
      "INSERT INTO main_Active_Leave_Entries(\"FacultyID\", \"application_date\", starting_date, num_leaves, curr_status, description) VALUES (7,'2020-02-10','2020-01-06',17,4,'girl drives odd merrily.');\n",
      "INSERT INTO main_Active_Leave_Entries(\"FacultyID\", \"application_date\", starting_date, num_leaves, curr_status, description) VALUES (17,'2020-01-09','2020-02-25',1,0,'car hits clueless dutifully.');\n",
      "INSERT INTO main_Active_Leave_Entries(\"FacultyID\", \"application_date\", starting_date, num_leaves, curr_status, description) VALUES (6,'2020-01-23','2020-01-12',14,3,'monkey barfs stupid occasionally.');\n",
      "INSERT INTO main_Active_Leave_Entries(\"FacultyID\", \"application_date\", starting_date, num_leaves, curr_status, description) VALUES (8,'2020-02-05','2020-02-26',9,4,'monkey barfs stupid occasionally.');\n"
     ]
    }
   ],
   "source": [
    "# random.shuffle(fac_ids)\n",
    "\n",
    "entry_ids = list(range(1, num_entries+1))\n",
    "status=[0, 1, 2, 3, 4]\n",
    "num_entries = 10\n",
    "nouns = (\"puppy\", \"car\", \"rabbit\", \"girl\", \"monkey\")\n",
    "verbs = (\"runs\", \"hits\", \"jumps\", \"drives\", \"barfs\") \n",
    "adv = (\"crazily.\", \"dutifully.\", \"foolishly.\", \"merrily.\", \"occasionally.\")\n",
    "adj = (\"adorable\", \"clueless\", \"dirty\", \"odd\", \"stupid\")\n",
    "for i in range(num_entries):\n",
    "    fac_id = random.choice(uniq_id)\n",
    "    entryid=i+1\n",
    "    app_date=gen_date().date()\n",
    "    start_date=gen_date().date()\n",
    "    if leave_rem[fac_id-1]>0:\n",
    "        no_of_leaves=random.randint(1, leave_rem[fac_id-1])     \n",
    "    else:\n",
    "        continue\n",
    "    curr_status=random.choice(status)\n",
    "    num = random.randrange(0,5)\n",
    "    description=nouns[num] + ' ' + verbs[num] + ' ' + adj[num] + ' ' + adv[num]\n",
    "    curr = f\"INSERT INTO {appName}_Active_Leave_Entries(\\\"FacultyID\\\", \\\"application_date\\\", starting_date, num_leaves, curr_status, description) VALUES ({fac_id},'{app_date}','{start_date}',{no_of_leaves},{curr_status},'{description}');\" \n",
    "    out_str+=curr\n",
    "    print(curr)"
   ]
  },
  {
   "cell_type": "code",
   "execution_count": 319,
   "metadata": {},
   "outputs": [
    {
     "name": "stdout",
     "output_type": "stream",
     "text": [
      "INSERT INTO main_comments(\"EntryID\", timecreated, body, \"FromFacultyID\") VALUES (3,'2020-01-17','rabbit jumps dirty foolishly.', 13);\n",
      "INSERT INTO main_comments(\"EntryID\", timecreated, body, \"FromFacultyID\") VALUES (14,'2020-01-11','rabbit jumps dirty foolishly.', 13);\n",
      "INSERT INTO main_comments(\"EntryID\", timecreated, body, \"FromFacultyID\") VALUES (7,'2020-03-01','girl drives odd merrily.', 1);\n",
      "INSERT INTO main_comments(\"EntryID\", timecreated, body, \"FromFacultyID\") VALUES (4,'2020-01-01','car hits clueless dutifully.', 18);\n",
      "INSERT INTO main_comments(\"EntryID\", timecreated, body, \"FromFacultyID\") VALUES (16,'2020-02-22','girl drives odd merrily.', 3);\n",
      "INSERT INTO main_comments(\"EntryID\", timecreated, body, \"FromFacultyID\") VALUES (18,'2020-02-01','car hits clueless dutifully.', 19);\n",
      "INSERT INTO main_comments(\"EntryID\", timecreated, body, \"FromFacultyID\") VALUES (20,'2020-02-16','girl drives odd merrily.', 11);\n",
      "INSERT INTO main_comments(\"EntryID\", timecreated, body, \"FromFacultyID\") VALUES (4,'2020-01-06','car hits clueless dutifully.', 1);\n",
      "INSERT INTO main_comments(\"EntryID\", timecreated, body, \"FromFacultyID\") VALUES (15,'2020-02-11','car hits clueless dutifully.', 20);\n",
      "INSERT INTO main_comments(\"EntryID\", timecreated, body, \"FromFacultyID\") VALUES (17,'2020-01-12','puppy runs adorable crazily.', 17);\n"
     ]
    }
   ],
   "source": [
    "random.shuffle(entry_ids)\n",
    "for i in range(10):\n",
    "    id1=random.randint(1,21)\n",
    "    timestamp=random.uniform(10,60)\n",
    "    num = random.randrange(0,5)\n",
    "    description=nouns[num] + ' ' + verbs[num] + ' ' + adj[num] + ' ' + adv[num]\n",
    "    curr = f\"INSERT INTO {appName}_comments(\\\"EntryID\\\", timecreated, body, \\\"FromFacultyID\\\") VALUES ({id1},'{gen_date().date()}','{description}', {random.choice(uniq_id)});\" \n",
    "    out_str+=curr\n",
    "    print(curr)"
   ]
  },
  {
   "cell_type": "code",
   "execution_count": 320,
   "metadata": {},
   "outputs": [
    {
     "name": "stdout",
     "output_type": "stream",
     "text": [
      "INSERT INTO main_Previous_Record(\"ApplicantID\", \"DecisionMakerID\", starting_date, num_leaves, decisiondate, was_approved) VALUES (16, 14, '2020-02-17', 14, '2020-01-01', False);INSERT INTO main_Previous_Record(\"ApplicantID\", \"DecisionMakerID\", starting_date, num_leaves, decisiondate, was_approved) VALUES (6, 3, '2020-02-15', 3, '2020-02-27', True);INSERT INTO main_Previous_Record(\"ApplicantID\", \"DecisionMakerID\", starting_date, num_leaves, decisiondate, was_approved) VALUES (19, 3, '2020-02-03', 13, '2020-02-14', False);INSERT INTO main_Previous_Record(\"ApplicantID\", \"DecisionMakerID\", starting_date, num_leaves, decisiondate, was_approved) VALUES (15, 3, '2020-02-20', 8, '2020-02-07', False);INSERT INTO main_Previous_Record(\"ApplicantID\", \"DecisionMakerID\", starting_date, num_leaves, decisiondate, was_approved) VALUES (4, 14, '2020-02-08', 14, '2020-02-15', False);INSERT INTO main_Previous_Record(\"ApplicantID\", \"DecisionMakerID\", starting_date, num_leaves, decisiondate, was_approved) VALUES (4, 10, '2020-01-10', 9, '2020-01-08', False);INSERT INTO main_Previous_Record(\"ApplicantID\", \"DecisionMakerID\", starting_date, num_leaves, decisiondate, was_approved) VALUES (10, 14, '2020-01-10', 7, '2020-01-29', False);INSERT INTO main_Previous_Record(\"ApplicantID\", \"DecisionMakerID\", starting_date, num_leaves, decisiondate, was_approved) VALUES (20, 14, '2020-03-01', 17, '2020-02-12', False);INSERT INTO main_Previous_Record(\"ApplicantID\", \"DecisionMakerID\", starting_date, num_leaves, decisiondate, was_approved) VALUES (8, 3, '2020-01-31', 10, '2020-02-20', True);INSERT INTO main_Previous_Record(\"ApplicantID\", \"DecisionMakerID\", starting_date, num_leaves, decisiondate, was_approved) VALUES (16, 14, '2020-01-20', 20, '2020-02-01', False);INSERT INTO main_Previous_Record(\"ApplicantID\", \"DecisionMakerID\", starting_date, num_leaves, decisiondate, was_approved) VALUES (12, 3, '2020-01-31', 16, '2020-02-17', True);INSERT INTO main_Previous_Record(\"ApplicantID\", \"DecisionMakerID\", starting_date, num_leaves, decisiondate, was_approved) VALUES (15, 3, '2020-02-11', 4, '2020-01-09', False);INSERT INTO main_Previous_Record(\"ApplicantID\", \"DecisionMakerID\", starting_date, num_leaves, decisiondate, was_approved) VALUES (7, 14, '2020-02-15', 4, '2020-02-28', False);INSERT INTO main_Previous_Record(\"ApplicantID\", \"DecisionMakerID\", starting_date, num_leaves, decisiondate, was_approved) VALUES (2, 10, '2020-02-04', 3, '2020-01-28', False);INSERT INTO main_Previous_Record(\"ApplicantID\", \"DecisionMakerID\", starting_date, num_leaves, decisiondate, was_approved) VALUES (9, 3, '2020-02-01', 6, '2020-02-16', True);INSERT INTO main_Previous_Record(\"ApplicantID\", \"DecisionMakerID\", starting_date, num_leaves, decisiondate, was_approved) VALUES (13, 3, '2020-01-06', 4, '2020-01-11', False);INSERT INTO main_Previous_Record(\"ApplicantID\", \"DecisionMakerID\", starting_date, num_leaves, decisiondate, was_approved) VALUES (9, 3, '2020-01-12', 4, '2020-02-03', True);INSERT INTO main_Previous_Record(\"ApplicantID\", \"DecisionMakerID\", starting_date, num_leaves, decisiondate, was_approved) VALUES (15, 3, '2020-02-19', 11, '2020-01-22', True);INSERT INTO main_Previous_Record(\"ApplicantID\", \"DecisionMakerID\", starting_date, num_leaves, decisiondate, was_approved) VALUES (4, 14, '2020-02-11', 17, '2020-02-07', False);INSERT INTO main_Previous_Record(\"ApplicantID\", \"DecisionMakerID\", starting_date, num_leaves, decisiondate, was_approved) VALUES (14, 14, '2020-01-21', 16, '2020-01-08', True);INSERT INTO auth_user(id, password, last_login, is_superuser, username, first_name, last_name, email, is_staff, is_active, date_joined) VALUES ('1', 'jDXaeS4PWc',  '2020-02-17 20:27:17', 'false', 'fqF5zTtE8l' , 'Gladys', 'Graham', 'XvTqILcX@iitrpr.ac.in', 'false', 'true', '2020-01-10 21:06:17');INSERT INTO auth_user(id, password, last_login, is_superuser, username, first_name, last_name, email, is_staff, is_active, date_joined) VALUES ('2', 'asIeHfAett',  '2020-03-01 16:12:47', 'false', 'RRHGiynHEH' , 'Judith', 'Ray', 'pTcTTvzj@iitrpr.ac.in', 'false', 'true', '2020-02-28 13:22:14');INSERT INTO auth_user(id, password, last_login, is_superuser, username, first_name, last_name, email, is_staff, is_active, date_joined) VALUES ('3', 'fdocE8ZisA',  '2020-01-21 22:40:08', 'false', '66E9cozk0i' , 'Russell', 'Dumais', 'IGEgsLap@iitrpr.ac.in', 'false', 'true', '2020-02-18 17:06:43');INSERT INTO auth_user(id, password, last_login, is_superuser, username, first_name, last_name, email, is_staff, is_active, date_joined) VALUES ('4', 'nB523OflRy',  '2020-01-02 01:59:15', 'false', 'haT5tOIlyS' , 'Hubert', 'Drawdy', 'uAayBmQN@iitrpr.ac.in', 'false', 'true', '2020-02-07 08:09:38');INSERT INTO auth_user(id, password, last_login, is_superuser, username, first_name, last_name, email, is_staff, is_active, date_joined) VALUES ('5', 'bFtrciH7BV',  '2020-01-24 03:43:49', 'false', 'T4hWpnBjAb' , 'Ira', 'Lovett', 'PMvzSNIs@iitrpr.ac.in', 'false', 'true', '2020-03-02 00:32:50');INSERT INTO auth_user(id, password, last_login, is_superuser, username, first_name, last_name, email, is_staff, is_active, date_joined) VALUES ('6', 'y5wovH6CXv',  '2020-02-20 13:28:44', 'false', 'zdAqmw5bXL' , 'Sandra', 'Wiliams', 'ZhorvrUv@iitrpr.ac.in', 'false', 'true', '2020-02-27 13:23:25');INSERT INTO auth_user(id, password, last_login, is_superuser, username, first_name, last_name, email, is_staff, is_active, date_joined) VALUES ('7', 'P4LO9bL1hl',  '2020-01-31 14:49:14', 'false', 'VvuNypIEem' , 'Irene', 'Yung', 'rcEouERA@iitrpr.ac.in', 'false', 'true', '2020-02-23 10:26:17');INSERT INTO auth_user(id, password, last_login, is_superuser, username, first_name, last_name, email, is_staff, is_active, date_joined) VALUES ('8', 'vHBSS4g5G6',  '2020-01-02 09:17:51', 'false', 'aB1umpsFsU' , 'Jennifer', 'Billups', 'veeQtHHP@iitrpr.ac.in', 'false', 'true', '2020-02-04 05:15:22');INSERT INTO auth_user(id, password, last_login, is_superuser, username, first_name, last_name, email, is_staff, is_active, date_joined) VALUES ('9', 'pLLydh8YDG',  '2020-01-06 22:59:43', 'false', 'MkGPsikwrn' , 'Katherine', 'Harrington', 'cAxRmvZo@iitrpr.ac.in', 'false', 'true', '2020-01-16 00:42:27');INSERT INTO auth_user(id, password, last_login, is_superuser, username, first_name, last_name, email, is_staff, is_active, date_joined) VALUES ('10', 'rZfpBvG7dR',  '2020-01-23 07:18:15', 'false', 'bkdDx2eqlt' , 'Lana', 'Lewis', 'BNrMsRVS@iitrpr.ac.in', 'false', 'true', '2020-01-07 03:24:47');INSERT INTO auth_user(id, password, last_login, is_superuser, username, first_name, last_name, email, is_staff, is_active, date_joined) VALUES ('11', 'TrfybSL4u9',  '2020-02-11 22:31:13', 'false', 'GYPGKz6Bk8' , 'Robbie', 'Duffy', 'AvhdENcv@iitrpr.ac.in', 'false', 'true', '2020-02-28 13:16:30');INSERT INTO auth_user(id, password, last_login, is_superuser, username, first_name, last_name, email, is_staff, is_active, date_joined) VALUES ('12', 'w3LkjI12Tn',  '2020-02-02 22:27:47', 'false', 'AYQnEkZZIn' , 'Elois', 'Patterson', 'TAsWRqwx@iitrpr.ac.in', 'false', 'true', '2020-01-11 21:45:03');INSERT INTO auth_user(id, password, last_login, is_superuser, username, first_name, last_name, email, is_staff, is_active, date_joined) VALUES ('13', 'TeCjQ8LAYe',  '2020-02-08 02:18:33', 'false', '8Kom3Hdzlf' , 'William', 'Hayden', 'bVSMhfFE@iitrpr.ac.in', 'false', 'true', '2020-01-13 06:18:18');INSERT INTO auth_user(id, password, last_login, is_superuser, username, first_name, last_name, email, is_staff, is_active, date_joined) VALUES ('14', 'EB7LoYn19z',  '2020-01-24 14:15:06', 'false', 'pS9hlqS2ot' , 'Janice', 'Thompson', 'kTbfWaEW@iitrpr.ac.in', 'false', 'true', '2020-02-10 09:54:14');INSERT INTO auth_user(id, password, last_login, is_superuser, username, first_name, last_name, email, is_staff, is_active, date_joined) VALUES ('15', 'cH7CfY2iVF',  '2020-01-27 00:58:50', 'false', 'Lc3RU6krLk' , 'Lucy', 'Hill', 'UUSuzfaZ@iitrpr.ac.in', 'false', 'true', '2020-01-17 19:28:25');INSERT INTO auth_user(id, password, last_login, is_superuser, username, first_name, last_name, email, is_staff, is_active, date_joined) VALUES ('16', '9gx3gdqYvV',  '2020-01-05 03:56:32', 'false', 'JpSxPfJkTg' , 'Donna', 'Webb', 'UmHSkTXr@iitrpr.ac.in', 'false', 'true', '2020-02-28 08:54:53');INSERT INTO auth_user(id, password, last_login, is_superuser, username, first_name, last_name, email, is_staff, is_active, date_joined) VALUES ('17', 'DEjpTRvwL6',  '2020-01-26 19:28:15', 'false', 'aAQuTHT1tw' , 'Bernice', 'Jackson', 'CveWKEIE@iitrpr.ac.in', 'false', 'true', '2020-02-13 05:54:21');INSERT INTO auth_user(id, password, last_login, is_superuser, username, first_name, last_name, email, is_staff, is_active, date_joined) VALUES ('18', 'FOie8Z2hed',  '2020-01-07 08:38:12', 'false', 'AklrHg11VL' , 'Allison', 'Zins', 'NyqzZyUQ@iitrpr.ac.in', 'false', 'true', '2020-02-25 09:18:06');INSERT INTO auth_user(id, password, last_login, is_superuser, username, first_name, last_name, email, is_staff, is_active, date_joined) VALUES ('19', '7Gk2fopUvQ',  '2020-01-05 07:04:31', 'false', 'URM1rZxLee' , 'Andrea', 'Stark', 'fXMTWSWI@iitrpr.ac.in', 'false', 'true', '2020-01-16 23:35:42');INSERT INTO auth_user(id, password, last_login, is_superuser, username, first_name, last_name, email, is_staff, is_active, date_joined) VALUES ('20', 'rudrjdrAIO',  '2020-02-02 03:59:42', 'false', 'c2T61xfwDk' , 'Richard', 'Sanders', 'VBkxzCTm@iitrpr.ac.in', 'false', 'true', '2020-02-14 15:16:42');INSERT INTO auth_user(password, is_superuser, username, first_name, last_name, email, is_staff, is_active, date_joined) VALUES ('wrIh3o5x1p', 'false', 'hod_cse' , 'Allison', 'Zins', 'NyqzZyUQ@iitrpr.ac.in', 'False', 'True', '2020-01-15 17:06:32');INSERT INTO auth_user(password, is_superuser, username, first_name, last_name, email, is_staff, is_active, date_joined) VALUES ('7T6xKZG8TG', 'false', 'hod_ee' , 'Lana', 'Lewis', 'BNrMsRVS@iitrpr.ac.in', 'False', 'True', '2020-02-06 07:51:19');INSERT INTO auth_user(password, is_superuser, username, first_name, last_name, email, is_staff, is_active, date_joined) VALUES ('zbOTbn9sMB', 'false', 'hod_me' , 'Donna', 'Webb', 'UmHSkTXr@iitrpr.ac.in', 'False', 'True', '2020-02-20 13:20:22');INSERT INTO auth_user(password, is_superuser, username, first_name, last_name, email, is_staff, is_active, date_joined) VALUES ('QOS7B0SZCU', 'false', 'dean_aa' , 'Russell', 'Dumais', 'IGEgsLap@iitrpr.ac.in', 'False', 'True', '2020-02-20 21:13:51');INSERT INTO auth_user(password, is_superuser, username, first_name, last_name, email, is_staff, is_active, date_joined) VALUES ('5MJpApUJOo', 'false', 'director' , 'Janice', 'Thompson', 'kTbfWaEW@iitrpr.ac.in', 'False', 'True', '2020-01-13 11:04:53');INSERT INTO main_Faculty(\"FacultyID\", dept, leaves_remaining, permission_level) VALUES (1,'ME', 20, 0);INSERT INTO main_Faculty(\"FacultyID\", dept, leaves_remaining, permission_level) VALUES (2,'CSE', 20, 0);INSERT INTO main_Faculty(\"FacultyID\", dept, leaves_remaining, permission_level) VALUES (3,'CSE', 20, 2);INSERT INTO main_Faculty(\"FacultyID\", dept, leaves_remaining, permission_level) VALUES (4,'CSE', 20, 0);INSERT INTO main_Faculty(\"FacultyID\", dept, leaves_remaining, permission_level) VALUES (5,'EE', 20, 0);INSERT INTO main_Faculty(\"FacultyID\", dept, leaves_remaining, permission_level) VALUES (6,'ME', 17, 0);INSERT INTO main_Faculty(\"FacultyID\", dept, leaves_remaining, permission_level) VALUES (7,'CSE', 20, 0);INSERT INTO main_Faculty(\"FacultyID\", dept, leaves_remaining, permission_level) VALUES (8,'EE', 10, 0);INSERT INTO main_Faculty(\"FacultyID\", dept, leaves_remaining, permission_level) VALUES (9,'CSE', 10, 0);INSERT INTO main_Faculty(\"FacultyID\", dept, leaves_remaining, permission_level) VALUES (10,'ME', 20, 1);INSERT INTO main_Faculty(\"FacultyID\", dept, leaves_remaining, permission_level) VALUES (11,'CSE', 20, 0);INSERT INTO main_Faculty(\"FacultyID\", dept, leaves_remaining, permission_level) VALUES (12,'CSE', 4, 0);INSERT INTO main_Faculty(\"FacultyID\", dept, leaves_remaining, permission_level) VALUES (13,'ME', 20, 0);INSERT INTO main_Faculty(\"FacultyID\", dept, leaves_remaining, permission_level) VALUES (14,'EE', 4, 3);INSERT INTO main_Faculty(\"FacultyID\", dept, leaves_remaining, permission_level) VALUES (15,'ME', 9, 0);INSERT INTO main_Faculty(\"FacultyID\", dept, leaves_remaining, permission_level) VALUES (16,'EE', 20, 1);INSERT INTO main_Faculty(\"FacultyID\", dept, leaves_remaining, permission_level) VALUES (17,'ME', 20, 0);INSERT INTO main_Faculty(\"FacultyID\", dept, leaves_remaining, permission_level) VALUES (18,'EE', 20, 1);INSERT INTO main_Faculty(\"FacultyID\", dept, leaves_remaining, permission_level) VALUES (19,'ME', 20, 0);INSERT INTO main_Faculty(\"FacultyID\", dept, leaves_remaining, permission_level) VALUES (20,'ME', 20, 0);INSERT INTO main_Active_Leave_Entries(\"FacultyID\", \"application_date\", starting_date, num_leaves, curr_status, description) VALUES (11,'2020-02-20','2020-01-04',15,0,'rabbit jumps dirty foolishly.');INSERT INTO main_Active_Leave_Entries(\"FacultyID\", \"application_date\", starting_date, num_leaves, curr_status, description) VALUES (2,'2020-02-23','2020-02-14',7,3,'puppy runs adorable crazily.');INSERT INTO main_Active_Leave_Entries(\"FacultyID\", \"application_date\", starting_date, num_leaves, curr_status, description) VALUES (16,'2020-01-21','2020-02-21',9,2,'car hits clueless dutifully.');INSERT INTO main_Active_Leave_Entries(\"FacultyID\", \"application_date\", starting_date, num_leaves, curr_status, description) VALUES (16,'2020-02-26','2020-01-03',10,1,'puppy runs adorable crazily.');INSERT INTO main_Active_Leave_Entries(\"FacultyID\", \"application_date\", starting_date, num_leaves, curr_status, description) VALUES (11,'2020-02-16','2020-01-15',2,1,'rabbit jumps dirty foolishly.');INSERT INTO main_Active_Leave_Entries(\"FacultyID\", \"application_date\", starting_date, num_leaves, curr_status, description) VALUES (7,'2020-01-25','2020-02-20',6,2,'girl drives odd merrily.');INSERT INTO main_Active_Leave_Entries(\"FacultyID\", \"application_date\", starting_date, num_leaves, curr_status, description) VALUES (7,'2020-02-10','2020-01-06',17,4,'girl drives odd merrily.');INSERT INTO main_Active_Leave_Entries(\"FacultyID\", \"application_date\", starting_date, num_leaves, curr_status, description) VALUES (17,'2020-01-09','2020-02-25',1,0,'car hits clueless dutifully.');INSERT INTO main_Active_Leave_Entries(\"FacultyID\", \"application_date\", starting_date, num_leaves, curr_status, description) VALUES (6,'2020-01-23','2020-01-12',14,3,'monkey barfs stupid occasionally.');INSERT INTO main_Active_Leave_Entries(\"FacultyID\", \"application_date\", starting_date, num_leaves, curr_status, description) VALUES (8,'2020-02-05','2020-02-26',9,4,'monkey barfs stupid occasionally.');INSERT INTO main_comments(\"EntryID\", timecreated, body, \"FromFacultyID\") VALUES (3,'2020-01-17','rabbit jumps dirty foolishly.', 13);INSERT INTO main_comments(\"EntryID\", timecreated, body, \"FromFacultyID\") VALUES (14,'2020-01-11','rabbit jumps dirty foolishly.', 13);INSERT INTO main_comments(\"EntryID\", timecreated, body, \"FromFacultyID\") VALUES (7,'2020-03-01','girl drives odd merrily.', 1);INSERT INTO main_comments(\"EntryID\", timecreated, body, \"FromFacultyID\") VALUES (4,'2020-01-01','car hits clueless dutifully.', 18);INSERT INTO main_comments(\"EntryID\", timecreated, body, \"FromFacultyID\") VALUES (16,'2020-02-22','girl drives odd merrily.', 3);INSERT INTO main_comments(\"EntryID\", timecreated, body, \"FromFacultyID\") VALUES (18,'2020-02-01','car hits clueless dutifully.', 19);INSERT INTO main_comments(\"EntryID\", timecreated, body, \"FromFacultyID\") VALUES (20,'2020-02-16','girl drives odd merrily.', 11);INSERT INTO main_comments(\"EntryID\", timecreated, body, \"FromFacultyID\") VALUES (4,'2020-01-06','car hits clueless dutifully.', 1);INSERT INTO main_comments(\"EntryID\", timecreated, body, \"FromFacultyID\") VALUES (15,'2020-02-11','car hits clueless dutifully.', 20);INSERT INTO main_comments(\"EntryID\", timecreated, body, \"FromFacultyID\") VALUES (17,'2020-01-12','puppy runs adorable crazily.', 17);\n"
     ]
    }
   ],
   "source": [
    "print(out_str)"
   ]
  },
  {
   "cell_type": "code",
   "execution_count": 13,
   "metadata": {},
   "outputs": [],
   "source": [
    "password = []\n",
    "userid = []\n",
    "for i in range(25):\n",
    "    password.append(get_random_string())\n",
    "    userid.append(i+1)"
   ]
  },
  {
   "cell_type": "code",
   "execution_count": 14,
   "metadata": {},
   "outputs": [],
   "source": [
    "strpass = \"\"\n",
    "struser = \"\"\n",
    "for (passw, userd) in zip(password, userid):\n",
    "    strpass +=  \"'\"+passw + \"' ,\"\n",
    "    struser += str(userd) + \",\""
   ]
  },
  {
   "cell_type": "code",
   "execution_count": 16,
   "metadata": {},
   "outputs": [
    {
     "name": "stdout",
     "output_type": "stream",
     "text": [
      "'ruZIze93l3' ,'58FeMvtFRP' ,'VJWrluHjUx' ,'lQvWLY47iw' ,'DOROHtTB2M' ,'ENxZgsML5J' ,'sQE4HtaLN1' ,'l8hTn79A4e' ,'KOkFaEyVWo' ,'UmBDatAwpd' ,'4gEcLxfoLx' ,'gsr56632aj' ,'748qkBy7Kn' ,'zOT4EhzRD4' ,'1SIyhcIbJu' ,'dxpVL9awVG' ,'V89xtrgR0X' ,'Js1nIzSwOl' ,'ClYKUC9nwZ' ,'T8QvqH3zXg' ,'wOWUr750Cl' ,'s7IdGxZhaw' ,'XN70Xhwo8A' ,'P2mBCOi1zV' ,'TAnrcEjrlj' , 1,2,3,4,5,6,7,8,9,10,11,12,13,14,15,16,17,18,19,20,21,22,23,24,25,\n"
     ]
    }
   ],
   "source": [
    "print(strpass, struser)"
   ]
  }
 ],
 "metadata": {
  "kernelspec": {
   "display_name": "Python 3",
   "language": "python",
   "name": "python3"
  },
  "language_info": {
   "codemirror_mode": {
    "name": "ipython",
    "version": 3
   },
   "file_extension": ".py",
   "mimetype": "text/x-python",
   "name": "python",
   "nbconvert_exporter": "python",
   "pygments_lexer": "ipython3",
   "version": "3.8.5"
  }
 },
 "nbformat": 4,
 "nbformat_minor": 4
}
