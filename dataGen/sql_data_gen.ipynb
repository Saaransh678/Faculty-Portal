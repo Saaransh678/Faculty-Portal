{
 "cells": [
  {
   "cell_type": "code",
   "execution_count": 259,
   "metadata": {},
   "outputs": [],
   "source": [
    "import random\n",
    "import names\n",
    "import datetime\n",
    "from random import randrange\n",
    "from datetime import timezone\n",
    "import random\n",
    "import string"
   ]
  },
  {
   "cell_type": "code",
   "execution_count": 260,
   "metadata": {},
   "outputs": [],
   "source": [
    "department=['CSE', 'EE', 'ME'  ]\n",
    "rev_dict = {'CSE': 0,'EE':1, 'ME': 2}\n",
    "num_basic = 20\n",
    "Max_Leaves = 20\n",
    "appName = \"main\"\n",
    "out_str = \"\""
   ]
  },
  {
   "cell_type": "code",
   "execution_count": 261,
   "metadata": {},
   "outputs": [],
   "source": [
    "def get_random_string(length = 10, val = False):\n",
    "    if val:\n",
    "        letters = string.ascii_letters\n",
    "    else:\n",
    "        letters = string.ascii_letters +string.digits\n",
    "    result_str = ''.join(random.choice(letters) for i in range(length))\n",
    "    return result_str\n",
    "\n",
    "def gen_date():\n",
    "    start_date = datetime.datetime(2020, 1, 1, 0, 0, 0)\n",
    "    end_date = datetime.datetime(2020, 3, 1, 23, 59, 59)\n",
    "    time_st = start_date.replace(tzinfo=timezone.utc).timestamp()\n",
    "    time_en = end_date.replace(tzinfo=timezone.utc).timestamp()\n",
    "    delta = randrange(time_en - time_st)\n",
    "    rand_date = datetime.datetime.fromtimestamp(time_st+delta)\n",
    "    return rand_date"
   ]
  },
  {
   "cell_type": "code",
   "execution_count": 262,
   "metadata": {},
   "outputs": [],
   "source": [
    "uniq_id = []\n",
    "user_id = []\n",
    "first_names = []\n",
    "last_names = []\n",
    "depts = []\n",
    "leave_rem = []\n",
    "password = []\n",
    "emails = []\n",
    "permissions = []\n",
    "\n",
    "for i in range(num_basic):\n",
    "    uniq_id.append(i+1)\n",
    "    user_id.append(get_random_string())\n",
    "    first_names.append(names.get_first_name())\n",
    "    last_names.append(names.get_last_name())\n",
    "    depts.append(random.choice(department))\n",
    "    leave_rem.append(Max_Leaves)\n",
    "    password.append(get_random_string())\n",
    "    emails.append(get_random_string(8, val = True)+'@iitrpr.ac.in')\n",
    "    permissions.append(0)\n",
    "\n",
    "# uniq_id, user_id, first_names, last_names, depts, leave_rem, password, emails"
   ]
  },
  {
   "cell_type": "code",
   "execution_count": 263,
   "metadata": {},
   "outputs": [],
   "source": [
    "# special ids\n",
    "level=['0', '1', '2', '3']\n",
    "position = ['basic', 'hod_cse', 'hod_ee', 'hod_me', 'dean_aa', 'director']\n",
    "level = [0, 1, 1, 1, 2, 3]\n",
    "special_ids = random.sample(uniq_id, len(position)-1)\n",
    "special_pass = []\n",
    "for i in range(len(positition)-1):\n",
    "    special_pass.append(get_random_string())\n",
    "    permissions[special_ids[i]-1] = level[i+1]"
   ]
  },
  {
   "cell_type": "code",
   "execution_count": 264,
   "metadata": {},
   "outputs": [
    {
     "name": "stdout",
     "output_type": "stream",
     "text": [
      "INSERT INTO Previous_Record(ApplicantID, DecisionMakerID, starting_date, num_leaves, decisiondate, was_approved) VALUES (14, 20, '2020-01-27', 16, '2020-01-10', True);\n",
      "INSERT INTO Previous_Record(ApplicantID, DecisionMakerID, starting_date, num_leaves, decisiondate, was_approved) VALUES (17, 20, '2020-01-21', 7, '2020-01-14', True);\n",
      "INSERT INTO Previous_Record(ApplicantID, DecisionMakerID, starting_date, num_leaves, decisiondate, was_approved) VALUES (16, 9, '2020-02-20', 5, '2020-01-27', True);\n",
      "INSERT INTO Previous_Record(ApplicantID, DecisionMakerID, starting_date, num_leaves, decisiondate, was_approved) VALUES (10, 20, '2020-02-27', 1, '2020-03-01', False);\n",
      "INSERT INTO Previous_Record(ApplicantID, DecisionMakerID, starting_date, num_leaves, decisiondate, was_approved) VALUES (13, 20, '2020-01-02', 5, '2020-02-08', False);\n",
      "INSERT INTO Previous_Record(ApplicantID, DecisionMakerID, starting_date, num_leaves, decisiondate, was_approved) VALUES (11, 9, '2020-01-29', 4, '2020-02-19', True);\n",
      "INSERT INTO Previous_Record(ApplicantID, DecisionMakerID, starting_date, num_leaves, decisiondate, was_approved) VALUES (9, 9, '2020-02-09', 18, '2020-01-16', True);\n",
      "INSERT INTO Previous_Record(ApplicantID, DecisionMakerID, starting_date, num_leaves, decisiondate, was_approved) VALUES (19, 9, '2020-02-02', 4, '2020-01-15', False);\n",
      "INSERT INTO Previous_Record(ApplicantID, DecisionMakerID, starting_date, num_leaves, decisiondate, was_approved) VALUES (18, 9, '2020-01-20', 8, '2020-02-18', False);\n",
      "INSERT INTO Previous_Record(ApplicantID, DecisionMakerID, starting_date, num_leaves, decisiondate, was_approved) VALUES (5, 20, '2020-02-01', 9, '2020-01-16', True);\n",
      "INSERT INTO Previous_Record(ApplicantID, DecisionMakerID, starting_date, num_leaves, decisiondate, was_approved) VALUES (19, 9, '2020-02-29', 8, '2020-02-05', False);\n",
      "INSERT INTO Previous_Record(ApplicantID, DecisionMakerID, starting_date, num_leaves, decisiondate, was_approved) VALUES (3, 20, '2020-01-13', 18, '2020-01-30', True);\n",
      "INSERT INTO Previous_Record(ApplicantID, DecisionMakerID, starting_date, num_leaves, decisiondate, was_approved) VALUES (12, 9, '2020-02-08', 4, '2020-02-08', False);\n",
      "INSERT INTO Previous_Record(ApplicantID, DecisionMakerID, starting_date, num_leaves, decisiondate, was_approved) VALUES (13, 20, '2020-02-07', 17, '2020-02-05', True);\n",
      "INSERT INTO Previous_Record(ApplicantID, DecisionMakerID, starting_date, num_leaves, decisiondate, was_approved) VALUES (2, 20, '2020-02-08', 3, '2020-02-20', True);\n",
      "INSERT INTO Previous_Record(ApplicantID, DecisionMakerID, starting_date, num_leaves, decisiondate, was_approved) VALUES (7, 9, '2020-01-22', 5, '2020-02-24', False);\n",
      "INSERT INTO Previous_Record(ApplicantID, DecisionMakerID, starting_date, num_leaves, decisiondate, was_approved) VALUES (17, 20, '2020-03-01', 6, '2020-01-28', True);\n",
      "INSERT INTO Previous_Record(ApplicantID, DecisionMakerID, starting_date, num_leaves, decisiondate, was_approved) VALUES (15, 9, '2020-02-09', 20, '2020-02-03', False);\n",
      "INSERT INTO Previous_Record(ApplicantID, DecisionMakerID, starting_date, num_leaves, decisiondate, was_approved) VALUES (13, 20, '2020-02-04', 1, '2020-02-10', False);\n",
      "INSERT INTO Previous_Record(ApplicantID, DecisionMakerID, starting_date, num_leaves, decisiondate, was_approved) VALUES (11, 9, '2020-01-19', 4, '2020-02-07', True);\n"
     ]
    }
   ],
   "source": [
    "for i in range(20):\n",
    "    timestamp=random.uniform(0,10)\n",
    "    was_approved = random.choice([True, False])\n",
    "    applicant = random.choice(uniq_id)\n",
    "    num_leaves = random.randint(1, leave_rem[applicant-1])\n",
    "    signedby = -1\n",
    "    if applicant in special_ids:\n",
    "        signedby = special_ids[-1]\n",
    "        if was_approved == True:\n",
    "            leave_rem[applicant-1] -= num_leaves\n",
    "            \n",
    "    elif was_approved == True:\n",
    "        leave_rem[applicant-1] -= num_leaves\n",
    "        signedby = special_ids[-2]\n",
    "            \n",
    "    else:\n",
    "        signedby = random.choice([special_ids[-1], special_ids[rev_dict[depts[applicant-1]]+1]])\n",
    "    if leave_rem[applicant-1] <0:\n",
    "        num_leaves += leave_rem[applicant-1]\n",
    "        leave_rem[applicant-1]=0\n",
    "    \n",
    "    curr = f\"INSERT INTO Previous_Record(ApplicantID, DecisionMakerID, starting_date, num_leaves, decisiondate, was_approved) VALUES ({applicant}, {signedby}, '{gen_date().date()}', {num_leaves}, '{gen_date().date()}', {was_approved});\"\n",
    "    out_str += curr\n",
    "    print(curr)"
   ]
  },
  {
   "cell_type": "code",
   "execution_count": 265,
   "metadata": {},
   "outputs": [
    {
     "name": "stdout",
     "output_type": "stream",
     "text": [
      "INSERT INTO auth_user(id, password, last_login, is_superuser, username, first_name, last_name, email, is_staff, is_active, date_joined) VALUES ('1', '18NtMDxWNX',  '2020-01-14 10:56:27', 'false', 'MulCPdMqhv' , 'Jerrod', 'Bundage', 'RHEabrZi@iitrpr.ac.in', 'false', 'true', '2020-02-19 10:38:08');\n",
      "INSERT INTO auth_user(id, password, last_login, is_superuser, username, first_name, last_name, email, is_staff, is_active, date_joined) VALUES ('2', 'C9v3IdPx2z',  '2020-01-20 20:32:10', 'false', 'E3KiA0A4Rf' , 'Jo', 'Ames', 'VxNrrGGx@iitrpr.ac.in', 'false', 'true', '2020-02-06 22:41:28');\n",
      "INSERT INTO auth_user(id, password, last_login, is_superuser, username, first_name, last_name, email, is_staff, is_active, date_joined) VALUES ('3', 'htYDKoJnZb',  '2020-01-16 03:02:45', 'false', 'kkfgLdVgZp' , 'Clara', 'Wolff', 'QpfJOvJA@iitrpr.ac.in', 'false', 'true', '2020-01-03 13:09:06');\n",
      "INSERT INTO auth_user(id, password, last_login, is_superuser, username, first_name, last_name, email, is_staff, is_active, date_joined) VALUES ('4', 'cPRaZ6tTKv',  '2020-02-10 15:56:35', 'false', 'PJUIszkBkn' , 'Penny', 'Kirchausen', 'DiWWGegp@iitrpr.ac.in', 'false', 'true', '2020-02-03 12:29:50');\n",
      "INSERT INTO auth_user(id, password, last_login, is_superuser, username, first_name, last_name, email, is_staff, is_active, date_joined) VALUES ('5', 'Np9Ci0dFDF',  '2020-01-22 12:34:45', 'false', 'RTqdCYbZ7R' , 'Dennis', 'Pope', 'BHErdJHw@iitrpr.ac.in', 'false', 'true', '2020-02-05 10:12:28');\n",
      "INSERT INTO auth_user(id, password, last_login, is_superuser, username, first_name, last_name, email, is_staff, is_active, date_joined) VALUES ('6', 'UuJ3Q3VHcg',  '2020-01-02 15:52:13', 'false', 'meTDdHOFa8' , 'Judith', 'Gomez', 'nHRPhpUo@iitrpr.ac.in', 'false', 'true', '2020-02-06 11:47:13');\n",
      "INSERT INTO auth_user(id, password, last_login, is_superuser, username, first_name, last_name, email, is_staff, is_active, date_joined) VALUES ('7', 'STpdtSa3rA',  '2020-01-25 04:46:02', 'false', 'Xwl4KAUQaG' , 'Rebecca', 'Vargas', 'xHOSJFIm@iitrpr.ac.in', 'false', 'true', '2020-02-19 00:29:08');\n",
      "INSERT INTO auth_user(id, password, last_login, is_superuser, username, first_name, last_name, email, is_staff, is_active, date_joined) VALUES ('8', 'M7bI3U1qsB',  '2020-01-29 23:03:46', 'false', 'JDFiH3mbll' , 'Sharon', 'Sloan', 'BTrfkVFV@iitrpr.ac.in', 'false', 'true', '2020-02-26 09:26:09');\n",
      "INSERT INTO auth_user(id, password, last_login, is_superuser, username, first_name, last_name, email, is_staff, is_active, date_joined) VALUES ('9', 'mcRvnu8Syo',  '2020-02-18 16:00:06', 'false', 'pfm8APqW7n' , 'Jack', 'Ross', 'tffpfBKj@iitrpr.ac.in', 'false', 'true', '2020-02-23 05:11:54');\n",
      "INSERT INTO auth_user(id, password, last_login, is_superuser, username, first_name, last_name, email, is_staff, is_active, date_joined) VALUES ('10', 'dX0ZpDh47N',  '2020-01-31 11:47:00', 'false', 'DGfE1txjGU' , 'Leticia', 'Murdock', 'QgDYZBsF@iitrpr.ac.in', 'false', 'true', '2020-02-25 00:31:33');\n",
      "INSERT INTO auth_user(id, password, last_login, is_superuser, username, first_name, last_name, email, is_staff, is_active, date_joined) VALUES ('11', 'RqRN9U8dcy',  '2020-02-07 02:34:08', 'false', 'S03aOVtiGh' , 'Manuela', 'Beck', 'qxDaZjgu@iitrpr.ac.in', 'false', 'true', '2020-02-05 13:53:45');\n",
      "INSERT INTO auth_user(id, password, last_login, is_superuser, username, first_name, last_name, email, is_staff, is_active, date_joined) VALUES ('12', 'iF6zdMudpt',  '2020-01-05 15:42:22', 'false', 'WcjjelfNgs' , 'Angelica', 'Ross', 'MpQUxvvO@iitrpr.ac.in', 'false', 'true', '2020-03-01 09:45:41');\n",
      "INSERT INTO auth_user(id, password, last_login, is_superuser, username, first_name, last_name, email, is_staff, is_active, date_joined) VALUES ('13', 'fr9xv6yktZ',  '2020-01-09 03:39:00', 'false', 'ZBjQ8A2u1F' , 'Samuel', 'Bond', 'BOigkPqY@iitrpr.ac.in', 'false', 'true', '2020-01-17 20:59:02');\n",
      "INSERT INTO auth_user(id, password, last_login, is_superuser, username, first_name, last_name, email, is_staff, is_active, date_joined) VALUES ('14', 'Vtm6yeKntx',  '2020-02-08 09:35:06', 'false', 'rftCKgXtIN' , 'John', 'Bower', 'nRviyfFf@iitrpr.ac.in', 'false', 'true', '2020-02-24 23:53:18');\n",
      "INSERT INTO auth_user(id, password, last_login, is_superuser, username, first_name, last_name, email, is_staff, is_active, date_joined) VALUES ('15', '8p1jB7GiHO',  '2020-01-14 14:13:50', 'false', '8o7IzvnGpb' , 'Greg', 'Durham', 'DShLKVJS@iitrpr.ac.in', 'false', 'true', '2020-01-04 03:40:00');\n",
      "INSERT INTO auth_user(id, password, last_login, is_superuser, username, first_name, last_name, email, is_staff, is_active, date_joined) VALUES ('16', 'PwaWmyYxeK',  '2020-01-06 00:12:02', 'false', 'j1GnosHc5U' , 'Betty', 'Hale', 'UahKFJuA@iitrpr.ac.in', 'false', 'true', '2020-02-12 23:16:27');\n",
      "INSERT INTO auth_user(id, password, last_login, is_superuser, username, first_name, last_name, email, is_staff, is_active, date_joined) VALUES ('17', 'KgDcNYguOF',  '2020-01-15 12:22:32', 'false', 'dOsiPBTczU' , 'Nicky', 'Feazel', 'wVBUgfCH@iitrpr.ac.in', 'false', 'true', '2020-02-16 02:58:31');\n",
      "INSERT INTO auth_user(id, password, last_login, is_superuser, username, first_name, last_name, email, is_staff, is_active, date_joined) VALUES ('18', '4upcdzLzof',  '2020-01-11 22:08:49', 'false', '08zJTBxoH4' , 'Ben', 'Block', 'luuSfISe@iitrpr.ac.in', 'false', 'true', '2020-01-31 15:52:01');\n",
      "INSERT INTO auth_user(id, password, last_login, is_superuser, username, first_name, last_name, email, is_staff, is_active, date_joined) VALUES ('19', '7XqmwFsqbo',  '2020-01-18 07:59:46', 'false', 'LsH5XFY85J' , 'Chester', 'Werts', 'mvmnJGlg@iitrpr.ac.in', 'false', 'true', '2020-01-13 09:08:26');\n",
      "INSERT INTO auth_user(id, password, last_login, is_superuser, username, first_name, last_name, email, is_staff, is_active, date_joined) VALUES ('20', 'YI214wM5ae',  '2020-01-14 14:05:24', 'false', 'bp0YH2tLqd' , 'Noel', 'Borman', 'rMoyNWbn@iitrpr.ac.in', 'false', 'true', '2020-03-01 09:43:50');\n",
      "\n",
      "\n",
      "\n",
      "INSERT INTO auth_user(password, is_superuser, username, first_name, last_name, email, is_staff, is_active) VALUES ('Zy59swkPIv', 'false', 'hod_cse' , 'Manuela', 'Beck', 'qxDaZjgu@iitrpr.ac.in', 'False', 'True');\n",
      "INSERT INTO auth_user(password, is_superuser, username, first_name, last_name, email, is_staff, is_active) VALUES ('apzOy2lA3h', 'false', 'hod_ee' , 'Betty', 'Hale', 'UahKFJuA@iitrpr.ac.in', 'False', 'True');\n",
      "INSERT INTO auth_user(password, is_superuser, username, first_name, last_name, email, is_staff, is_active) VALUES ('ggNVkvMRVJ', 'false', 'hod_me' , 'Chester', 'Werts', 'mvmnJGlg@iitrpr.ac.in', 'False', 'True');\n",
      "INSERT INTO auth_user(password, is_superuser, username, first_name, last_name, email, is_staff, is_active) VALUES ('gxf1KOLP0A', 'false', 'dean_aa' , 'Noel', 'Borman', 'rMoyNWbn@iitrpr.ac.in', 'False', 'True');\n",
      "INSERT INTO auth_user(password, is_superuser, username, first_name, last_name, email, is_staff, is_active) VALUES ('dJM8o2wNbr', 'false', 'director' , 'Jack', 'Ross', 'tffpfBKj@iitrpr.ac.in', 'False', 'True');\n"
     ]
    }
   ],
   "source": [
    "for i in range(num_basic):\n",
    "    date_a = gen_date()\n",
    "    date_b = gen_date()\n",
    "    curr = f\"INSERT INTO auth_user(id, password, last_login, is_superuser, username, first_name, last_name, email, is_staff, is_active, date_joined) VALUES ('{uniq_id[i]}', '{password[i]}',  '{date_a}', 'false', '{user_id[i]}' , '{first_names[i]}', '{last_names[i]}', '{emails[i]}', 'false', 'true', '{date_b}');\" \n",
    "    out_str+=curr\n",
    "    print(curr)\n",
    "    \n",
    "print(\"\\n\\n\")\n",
    "    \n",
    "for i in range(1, len(position)):\n",
    "    curr = f\"INSERT INTO auth_user(password, is_superuser, username, first_name, last_name, email, is_staff, is_active) VALUES ('{special_pass[i-1]}', 'false', '{position[i]}' , '{first_names[special_ids[i-1]-1]}', '{last_names[special_ids[i-1]-1]}', '{emails[special_ids[i-1]-1]}', 'False', 'True');\" \n",
    "    out_str+=curr\n",
    "    print(curr)"
   ]
  },
  {
   "cell_type": "code",
   "execution_count": 266,
   "metadata": {},
   "outputs": [
    {
     "data": {
      "text/plain": [
       "[11, 16, 19, 20, 9]"
      ]
     },
     "execution_count": 266,
     "metadata": {},
     "output_type": "execute_result"
    }
   ],
   "source": [
    "special_ids"
   ]
  },
  {
   "cell_type": "code",
   "execution_count": 267,
   "metadata": {},
   "outputs": [
    {
     "name": "stdout",
     "output_type": "stream",
     "text": [
      "INSERT INTO Faculty(FacultyID, dept, leaves_remaining, permission_level) VALUES (1,'CSE', 20, 0);\n",
      "INSERT INTO Faculty(FacultyID, dept, leaves_remaining, permission_level) VALUES (2,'ME', 17, 0);\n",
      "INSERT INTO Faculty(FacultyID, dept, leaves_remaining, permission_level) VALUES (3,'CSE', 2, 0);\n",
      "INSERT INTO Faculty(FacultyID, dept, leaves_remaining, permission_level) VALUES (4,'CSE', 20, 0);\n",
      "INSERT INTO Faculty(FacultyID, dept, leaves_remaining, permission_level) VALUES (5,'ME', 11, 0);\n",
      "INSERT INTO Faculty(FacultyID, dept, leaves_remaining, permission_level) VALUES (6,'EE', 20, 0);\n",
      "INSERT INTO Faculty(FacultyID, dept, leaves_remaining, permission_level) VALUES (7,'EE', 20, 0);\n",
      "INSERT INTO Faculty(FacultyID, dept, leaves_remaining, permission_level) VALUES (8,'EE', 20, 0);\n",
      "INSERT INTO Faculty(FacultyID, dept, leaves_remaining, permission_level) VALUES (9,'EE', 2, 3);\n",
      "INSERT INTO Faculty(FacultyID, dept, leaves_remaining, permission_level) VALUES (10,'ME', 20, 0);\n",
      "INSERT INTO Faculty(FacultyID, dept, leaves_remaining, permission_level) VALUES (11,'CSE', 12, 1);\n",
      "INSERT INTO Faculty(FacultyID, dept, leaves_remaining, permission_level) VALUES (12,'ME', 20, 0);\n",
      "INSERT INTO Faculty(FacultyID, dept, leaves_remaining, permission_level) VALUES (13,'ME', 3, 0);\n",
      "INSERT INTO Faculty(FacultyID, dept, leaves_remaining, permission_level) VALUES (14,'EE', 4, 0);\n",
      "INSERT INTO Faculty(FacultyID, dept, leaves_remaining, permission_level) VALUES (15,'EE', 20, 0);\n",
      "INSERT INTO Faculty(FacultyID, dept, leaves_remaining, permission_level) VALUES (16,'ME', 15, 1);\n",
      "INSERT INTO Faculty(FacultyID, dept, leaves_remaining, permission_level) VALUES (17,'CSE', 7, 0);\n",
      "INSERT INTO Faculty(FacultyID, dept, leaves_remaining, permission_level) VALUES (18,'EE', 20, 0);\n",
      "INSERT INTO Faculty(FacultyID, dept, leaves_remaining, permission_level) VALUES (19,'CSE', 20, 1);\n",
      "INSERT INTO Faculty(FacultyID, dept, leaves_remaining, permission_level) VALUES (20,'CSE', 20, 2);\n"
     ]
    }
   ],
   "source": [
    "for i in range(20):\n",
    "    curr = f\"INSERT INTO Faculty(FacultyID, dept, leaves_remaining, permission_level) VALUES ({uniq_id[i]},'{depts[i]}', {leave_rem[i]}, {permissions[i]});\" \n",
    "    out_str+=curr\n",
    "    print(curr)"
   ]
  },
  {
   "cell_type": "code",
   "execution_count": 268,
   "metadata": {},
   "outputs": [],
   "source": [
    "# level=['0', '1', '2', '3']\n",
    "# fac_ids=list(range(1,21))\n",
    "# random.shuffle(fac_ids)\n",
    "# for i in range(10):\n",
    "#     id1=i+20\n",
    "#     le=random.choice(level)\n",
    "#     print(f'INSERT INTO CrossCutting(CCID, FacultyID, Permission level) VALUES ({id1},{fac_ids[i]},{le});')"
   ]
  },
  {
   "cell_type": "code",
   "execution_count": 269,
   "metadata": {},
   "outputs": [
    {
     "name": "stdout",
     "output_type": "stream",
     "text": [
      "INSERT INTO Active Leave Entries(EntryID, FacultyID, ApplicationDate, Starting Date, No.Of Leaves, Curr_Status, Desciption) VALUES (1,10,'2020-02-18','2020-01-24',20,4,'girl drives odd merrily.');\n",
      "INSERT INTO Active Leave Entries(EntryID, FacultyID, ApplicationDate, Starting Date, No.Of Leaves, Curr_Status, Desciption) VALUES (2,14,'2020-01-05','2020-01-22',3,2,'monkey barfs stupid occasionally.');\n",
      "INSERT INTO Active Leave Entries(EntryID, FacultyID, ApplicationDate, Starting Date, No.Of Leaves, Curr_Status, Desciption) VALUES (3,9,'2020-01-25','2020-02-07',1,4,'car hits clueless dutifully.');\n",
      "INSERT INTO Active Leave Entries(EntryID, FacultyID, ApplicationDate, Starting Date, No.Of Leaves, Curr_Status, Desciption) VALUES (4,1,'2020-01-12','2020-01-25',6,2,'puppy runs adorable crazily.');\n",
      "INSERT INTO Active Leave Entries(EntryID, FacultyID, ApplicationDate, Starting Date, No.Of Leaves, Curr_Status, Desciption) VALUES (5,16,'2020-01-11','2020-02-02',2,4,'puppy runs adorable crazily.');\n",
      "INSERT INTO Active Leave Entries(EntryID, FacultyID, ApplicationDate, Starting Date, No.Of Leaves, Curr_Status, Desciption) VALUES (6,14,'2020-02-01','2020-02-17',2,1,'girl drives odd merrily.');\n",
      "INSERT INTO Active Leave Entries(EntryID, FacultyID, ApplicationDate, Starting Date, No.Of Leaves, Curr_Status, Desciption) VALUES (7,4,'2020-02-07','2020-01-01',7,4,'rabbit jumps dirty foolishly.');\n",
      "INSERT INTO Active Leave Entries(EntryID, FacultyID, ApplicationDate, Starting Date, No.Of Leaves, Curr_Status, Desciption) VALUES (8,3,'2020-02-26','2020-01-25',2,1,'girl drives odd merrily.');\n",
      "INSERT INTO Active Leave Entries(EntryID, FacultyID, ApplicationDate, Starting Date, No.Of Leaves, Curr_Status, Desciption) VALUES (9,4,'2020-01-21','2020-01-30',16,3,'monkey barfs stupid occasionally.');\n",
      "INSERT INTO Active Leave Entries(EntryID, FacultyID, ApplicationDate, Starting Date, No.Of Leaves, Curr_Status, Desciption) VALUES (10,11,'2020-01-22','2020-02-05',12,1,'puppy runs adorable crazily.');\n"
     ]
    }
   ],
   "source": [
    "# random.shuffle(fac_ids)\n",
    "\n",
    "entry_ids = list(range(1, num_entries+1))\n",
    "status=[0, 1, 2, 3, 4]\n",
    "num_entries = 10\n",
    "nouns = (\"puppy\", \"car\", \"rabbit\", \"girl\", \"monkey\")\n",
    "verbs = (\"runs\", \"hits\", \"jumps\", \"drives\", \"barfs\") \n",
    "adv = (\"crazily.\", \"dutifully.\", \"foolishly.\", \"merrily.\", \"occasionally.\")\n",
    "adj = (\"adorable\", \"clueless\", \"dirty\", \"odd\", \"stupid\")\n",
    "for i in range(num_entries):\n",
    "    fac_id = random.choice(uniq_id)\n",
    "    entryid=i+1\n",
    "    app_date=gen_date().date()\n",
    "    start_date=gen_date().date()\n",
    "    if leave_rem[fac_id-1]>0:\n",
    "        no_of_leaves=random.randint(1, leave_rem[fac_id-1])     \n",
    "    else:\n",
    "        continue\n",
    "    curr_status=random.choice(status)\n",
    "    num = random.randrange(0,5)\n",
    "    description=nouns[num] + ' ' + verbs[num] + ' ' + adj[num] + ' ' + adv[num]\n",
    "    curr = f\"INSERT INTO Active Leave Entries(EntryID, FacultyID, ApplicationDate, Starting Date, No.Of Leaves, Curr_Status, Desciption) VALUES ({entryid},{fac_id},'{app_date}','{start_date}',{no_of_leaves},{curr_status},'{description}');\" \n",
    "    out_str+=curr\n",
    "    print(curr)"
   ]
  },
  {
   "cell_type": "code",
   "execution_count": 270,
   "metadata": {},
   "outputs": [
    {
     "name": "stdout",
     "output_type": "stream",
     "text": [
      "INSERT INTO Comments(EntryID, timecreated, body, FromFacultyID) VALUES (19,'2020-01-18','puppy runs adorable crazily.', 19);\n",
      "INSERT INTO Comments(EntryID, timecreated, body, FromFacultyID) VALUES (1,'2020-02-08','rabbit jumps dirty foolishly.', 13);\n",
      "INSERT INTO Comments(EntryID, timecreated, body, FromFacultyID) VALUES (13,'2020-01-07','girl drives odd merrily.', 5);\n",
      "INSERT INTO Comments(EntryID, timecreated, body, FromFacultyID) VALUES (7,'2020-02-01','rabbit jumps dirty foolishly.', 2);\n",
      "INSERT INTO Comments(EntryID, timecreated, body, FromFacultyID) VALUES (9,'2020-02-29','monkey barfs stupid occasionally.', 17);\n",
      "INSERT INTO Comments(EntryID, timecreated, body, FromFacultyID) VALUES (20,'2020-01-15','puppy runs adorable crazily.', 10);\n",
      "INSERT INTO Comments(EntryID, timecreated, body, FromFacultyID) VALUES (5,'2020-01-23','monkey barfs stupid occasionally.', 16);\n",
      "INSERT INTO Comments(EntryID, timecreated, body, FromFacultyID) VALUES (12,'2020-01-26','puppy runs adorable crazily.', 9);\n",
      "INSERT INTO Comments(EntryID, timecreated, body, FromFacultyID) VALUES (20,'2020-02-12','rabbit jumps dirty foolishly.', 8);\n",
      "INSERT INTO Comments(EntryID, timecreated, body, FromFacultyID) VALUES (21,'2020-01-18','car hits clueless dutifully.', 16);\n"
     ]
    }
   ],
   "source": [
    "random.shuffle(entry_ids)\n",
    "for i in range(10):\n",
    "    id1=random.randint(1,21)\n",
    "    timestamp=random.uniform(10,60)\n",
    "    num = random.randrange(0,5)\n",
    "    description=nouns[num] + ' ' + verbs[num] + ' ' + adj[num] + ' ' + adv[num]\n",
    "    curr = f\"INSERT INTO Comments(EntryID, timecreated, body, FromFacultyID) VALUES ({id1},'{gen_date().date()}','{description}', {random.choice(uniq_id)});\" \n",
    "    out_str+=curr\n",
    "    print(curr)"
   ]
  },
  {
   "cell_type": "code",
   "execution_count": 271,
   "metadata": {},
   "outputs": [
    {
     "name": "stdout",
     "output_type": "stream",
     "text": [
      "INSERT INTO Previous_Record(ApplicantID, DecisionMakerID, starting_date, num_leaves, decisiondate, was_approved) VALUES (14, 20, '2020-01-27', 16, '2020-01-10', True);INSERT INTO Previous_Record(ApplicantID, DecisionMakerID, starting_date, num_leaves, decisiondate, was_approved) VALUES (17, 20, '2020-01-21', 7, '2020-01-14', True);INSERT INTO Previous_Record(ApplicantID, DecisionMakerID, starting_date, num_leaves, decisiondate, was_approved) VALUES (16, 9, '2020-02-20', 5, '2020-01-27', True);INSERT INTO Previous_Record(ApplicantID, DecisionMakerID, starting_date, num_leaves, decisiondate, was_approved) VALUES (10, 20, '2020-02-27', 1, '2020-03-01', False);INSERT INTO Previous_Record(ApplicantID, DecisionMakerID, starting_date, num_leaves, decisiondate, was_approved) VALUES (13, 20, '2020-01-02', 5, '2020-02-08', False);INSERT INTO Previous_Record(ApplicantID, DecisionMakerID, starting_date, num_leaves, decisiondate, was_approved) VALUES (11, 9, '2020-01-29', 4, '2020-02-19', True);INSERT INTO Previous_Record(ApplicantID, DecisionMakerID, starting_date, num_leaves, decisiondate, was_approved) VALUES (9, 9, '2020-02-09', 18, '2020-01-16', True);INSERT INTO Previous_Record(ApplicantID, DecisionMakerID, starting_date, num_leaves, decisiondate, was_approved) VALUES (19, 9, '2020-02-02', 4, '2020-01-15', False);INSERT INTO Previous_Record(ApplicantID, DecisionMakerID, starting_date, num_leaves, decisiondate, was_approved) VALUES (18, 9, '2020-01-20', 8, '2020-02-18', False);INSERT INTO Previous_Record(ApplicantID, DecisionMakerID, starting_date, num_leaves, decisiondate, was_approved) VALUES (5, 20, '2020-02-01', 9, '2020-01-16', True);INSERT INTO Previous_Record(ApplicantID, DecisionMakerID, starting_date, num_leaves, decisiondate, was_approved) VALUES (19, 9, '2020-02-29', 8, '2020-02-05', False);INSERT INTO Previous_Record(ApplicantID, DecisionMakerID, starting_date, num_leaves, decisiondate, was_approved) VALUES (3, 20, '2020-01-13', 18, '2020-01-30', True);INSERT INTO Previous_Record(ApplicantID, DecisionMakerID, starting_date, num_leaves, decisiondate, was_approved) VALUES (12, 9, '2020-02-08', 4, '2020-02-08', False);INSERT INTO Previous_Record(ApplicantID, DecisionMakerID, starting_date, num_leaves, decisiondate, was_approved) VALUES (13, 20, '2020-02-07', 17, '2020-02-05', True);INSERT INTO Previous_Record(ApplicantID, DecisionMakerID, starting_date, num_leaves, decisiondate, was_approved) VALUES (2, 20, '2020-02-08', 3, '2020-02-20', True);INSERT INTO Previous_Record(ApplicantID, DecisionMakerID, starting_date, num_leaves, decisiondate, was_approved) VALUES (7, 9, '2020-01-22', 5, '2020-02-24', False);INSERT INTO Previous_Record(ApplicantID, DecisionMakerID, starting_date, num_leaves, decisiondate, was_approved) VALUES (17, 20, '2020-03-01', 6, '2020-01-28', True);INSERT INTO Previous_Record(ApplicantID, DecisionMakerID, starting_date, num_leaves, decisiondate, was_approved) VALUES (15, 9, '2020-02-09', 20, '2020-02-03', False);INSERT INTO Previous_Record(ApplicantID, DecisionMakerID, starting_date, num_leaves, decisiondate, was_approved) VALUES (13, 20, '2020-02-04', 1, '2020-02-10', False);INSERT INTO Previous_Record(ApplicantID, DecisionMakerID, starting_date, num_leaves, decisiondate, was_approved) VALUES (11, 9, '2020-01-19', 4, '2020-02-07', True);INSERT INTO auth_user(id, password, last_login, is_superuser, username, first_name, last_name, email, is_staff, is_active, date_joined) VALUES ('1', '18NtMDxWNX',  '2020-01-14 10:56:27', 'false', 'MulCPdMqhv' , 'Jerrod', 'Bundage', 'RHEabrZi@iitrpr.ac.in', 'false', 'true', '2020-02-19 10:38:08');INSERT INTO auth_user(id, password, last_login, is_superuser, username, first_name, last_name, email, is_staff, is_active, date_joined) VALUES ('2', 'C9v3IdPx2z',  '2020-01-20 20:32:10', 'false', 'E3KiA0A4Rf' , 'Jo', 'Ames', 'VxNrrGGx@iitrpr.ac.in', 'false', 'true', '2020-02-06 22:41:28');INSERT INTO auth_user(id, password, last_login, is_superuser, username, first_name, last_name, email, is_staff, is_active, date_joined) VALUES ('3', 'htYDKoJnZb',  '2020-01-16 03:02:45', 'false', 'kkfgLdVgZp' , 'Clara', 'Wolff', 'QpfJOvJA@iitrpr.ac.in', 'false', 'true', '2020-01-03 13:09:06');INSERT INTO auth_user(id, password, last_login, is_superuser, username, first_name, last_name, email, is_staff, is_active, date_joined) VALUES ('4', 'cPRaZ6tTKv',  '2020-02-10 15:56:35', 'false', 'PJUIszkBkn' , 'Penny', 'Kirchausen', 'DiWWGegp@iitrpr.ac.in', 'false', 'true', '2020-02-03 12:29:50');INSERT INTO auth_user(id, password, last_login, is_superuser, username, first_name, last_name, email, is_staff, is_active, date_joined) VALUES ('5', 'Np9Ci0dFDF',  '2020-01-22 12:34:45', 'false', 'RTqdCYbZ7R' , 'Dennis', 'Pope', 'BHErdJHw@iitrpr.ac.in', 'false', 'true', '2020-02-05 10:12:28');INSERT INTO auth_user(id, password, last_login, is_superuser, username, first_name, last_name, email, is_staff, is_active, date_joined) VALUES ('6', 'UuJ3Q3VHcg',  '2020-01-02 15:52:13', 'false', 'meTDdHOFa8' , 'Judith', 'Gomez', 'nHRPhpUo@iitrpr.ac.in', 'false', 'true', '2020-02-06 11:47:13');INSERT INTO auth_user(id, password, last_login, is_superuser, username, first_name, last_name, email, is_staff, is_active, date_joined) VALUES ('7', 'STpdtSa3rA',  '2020-01-25 04:46:02', 'false', 'Xwl4KAUQaG' , 'Rebecca', 'Vargas', 'xHOSJFIm@iitrpr.ac.in', 'false', 'true', '2020-02-19 00:29:08');INSERT INTO auth_user(id, password, last_login, is_superuser, username, first_name, last_name, email, is_staff, is_active, date_joined) VALUES ('8', 'M7bI3U1qsB',  '2020-01-29 23:03:46', 'false', 'JDFiH3mbll' , 'Sharon', 'Sloan', 'BTrfkVFV@iitrpr.ac.in', 'false', 'true', '2020-02-26 09:26:09');INSERT INTO auth_user(id, password, last_login, is_superuser, username, first_name, last_name, email, is_staff, is_active, date_joined) VALUES ('9', 'mcRvnu8Syo',  '2020-02-18 16:00:06', 'false', 'pfm8APqW7n' , 'Jack', 'Ross', 'tffpfBKj@iitrpr.ac.in', 'false', 'true', '2020-02-23 05:11:54');INSERT INTO auth_user(id, password, last_login, is_superuser, username, first_name, last_name, email, is_staff, is_active, date_joined) VALUES ('10', 'dX0ZpDh47N',  '2020-01-31 11:47:00', 'false', 'DGfE1txjGU' , 'Leticia', 'Murdock', 'QgDYZBsF@iitrpr.ac.in', 'false', 'true', '2020-02-25 00:31:33');INSERT INTO auth_user(id, password, last_login, is_superuser, username, first_name, last_name, email, is_staff, is_active, date_joined) VALUES ('11', 'RqRN9U8dcy',  '2020-02-07 02:34:08', 'false', 'S03aOVtiGh' , 'Manuela', 'Beck', 'qxDaZjgu@iitrpr.ac.in', 'false', 'true', '2020-02-05 13:53:45');INSERT INTO auth_user(id, password, last_login, is_superuser, username, first_name, last_name, email, is_staff, is_active, date_joined) VALUES ('12', 'iF6zdMudpt',  '2020-01-05 15:42:22', 'false', 'WcjjelfNgs' , 'Angelica', 'Ross', 'MpQUxvvO@iitrpr.ac.in', 'false', 'true', '2020-03-01 09:45:41');INSERT INTO auth_user(id, password, last_login, is_superuser, username, first_name, last_name, email, is_staff, is_active, date_joined) VALUES ('13', 'fr9xv6yktZ',  '2020-01-09 03:39:00', 'false', 'ZBjQ8A2u1F' , 'Samuel', 'Bond', 'BOigkPqY@iitrpr.ac.in', 'false', 'true', '2020-01-17 20:59:02');INSERT INTO auth_user(id, password, last_login, is_superuser, username, first_name, last_name, email, is_staff, is_active, date_joined) VALUES ('14', 'Vtm6yeKntx',  '2020-02-08 09:35:06', 'false', 'rftCKgXtIN' , 'John', 'Bower', 'nRviyfFf@iitrpr.ac.in', 'false', 'true', '2020-02-24 23:53:18');INSERT INTO auth_user(id, password, last_login, is_superuser, username, first_name, last_name, email, is_staff, is_active, date_joined) VALUES ('15', '8p1jB7GiHO',  '2020-01-14 14:13:50', 'false', '8o7IzvnGpb' , 'Greg', 'Durham', 'DShLKVJS@iitrpr.ac.in', 'false', 'true', '2020-01-04 03:40:00');INSERT INTO auth_user(id, password, last_login, is_superuser, username, first_name, last_name, email, is_staff, is_active, date_joined) VALUES ('16', 'PwaWmyYxeK',  '2020-01-06 00:12:02', 'false', 'j1GnosHc5U' , 'Betty', 'Hale', 'UahKFJuA@iitrpr.ac.in', 'false', 'true', '2020-02-12 23:16:27');INSERT INTO auth_user(id, password, last_login, is_superuser, username, first_name, last_name, email, is_staff, is_active, date_joined) VALUES ('17', 'KgDcNYguOF',  '2020-01-15 12:22:32', 'false', 'dOsiPBTczU' , 'Nicky', 'Feazel', 'wVBUgfCH@iitrpr.ac.in', 'false', 'true', '2020-02-16 02:58:31');INSERT INTO auth_user(id, password, last_login, is_superuser, username, first_name, last_name, email, is_staff, is_active, date_joined) VALUES ('18', '4upcdzLzof',  '2020-01-11 22:08:49', 'false', '08zJTBxoH4' , 'Ben', 'Block', 'luuSfISe@iitrpr.ac.in', 'false', 'true', '2020-01-31 15:52:01');INSERT INTO auth_user(id, password, last_login, is_superuser, username, first_name, last_name, email, is_staff, is_active, date_joined) VALUES ('19', '7XqmwFsqbo',  '2020-01-18 07:59:46', 'false', 'LsH5XFY85J' , 'Chester', 'Werts', 'mvmnJGlg@iitrpr.ac.in', 'false', 'true', '2020-01-13 09:08:26');INSERT INTO auth_user(id, password, last_login, is_superuser, username, first_name, last_name, email, is_staff, is_active, date_joined) VALUES ('20', 'YI214wM5ae',  '2020-01-14 14:05:24', 'false', 'bp0YH2tLqd' , 'Noel', 'Borman', 'rMoyNWbn@iitrpr.ac.in', 'false', 'true', '2020-03-01 09:43:50');INSERT INTO auth_user(password, is_superuser, username, first_name, last_name, email, is_staff, is_active) VALUES ('Zy59swkPIv', 'false', 'hod_cse' , 'Manuela', 'Beck', 'qxDaZjgu@iitrpr.ac.in', 'False', 'True');INSERT INTO auth_user(password, is_superuser, username, first_name, last_name, email, is_staff, is_active) VALUES ('apzOy2lA3h', 'false', 'hod_ee' , 'Betty', 'Hale', 'UahKFJuA@iitrpr.ac.in', 'False', 'True');INSERT INTO auth_user(password, is_superuser, username, first_name, last_name, email, is_staff, is_active) VALUES ('ggNVkvMRVJ', 'false', 'hod_me' , 'Chester', 'Werts', 'mvmnJGlg@iitrpr.ac.in', 'False', 'True');INSERT INTO auth_user(password, is_superuser, username, first_name, last_name, email, is_staff, is_active) VALUES ('gxf1KOLP0A', 'false', 'dean_aa' , 'Noel', 'Borman', 'rMoyNWbn@iitrpr.ac.in', 'False', 'True');INSERT INTO auth_user(password, is_superuser, username, first_name, last_name, email, is_staff, is_active) VALUES ('dJM8o2wNbr', 'false', 'director' , 'Jack', 'Ross', 'tffpfBKj@iitrpr.ac.in', 'False', 'True');INSERT INTO Faculty(FacultyID, dept, leaves_remaining, permission_level) VALUES (1,'CSE', 20, 0);INSERT INTO Faculty(FacultyID, dept, leaves_remaining, permission_level) VALUES (2,'ME', 17, 0);INSERT INTO Faculty(FacultyID, dept, leaves_remaining, permission_level) VALUES (3,'CSE', 2, 0);INSERT INTO Faculty(FacultyID, dept, leaves_remaining, permission_level) VALUES (4,'CSE', 20, 0);INSERT INTO Faculty(FacultyID, dept, leaves_remaining, permission_level) VALUES (5,'ME', 11, 0);INSERT INTO Faculty(FacultyID, dept, leaves_remaining, permission_level) VALUES (6,'EE', 20, 0);INSERT INTO Faculty(FacultyID, dept, leaves_remaining, permission_level) VALUES (7,'EE', 20, 0);INSERT INTO Faculty(FacultyID, dept, leaves_remaining, permission_level) VALUES (8,'EE', 20, 0);INSERT INTO Faculty(FacultyID, dept, leaves_remaining, permission_level) VALUES (9,'EE', 2, 3);INSERT INTO Faculty(FacultyID, dept, leaves_remaining, permission_level) VALUES (10,'ME', 20, 0);INSERT INTO Faculty(FacultyID, dept, leaves_remaining, permission_level) VALUES (11,'CSE', 12, 1);INSERT INTO Faculty(FacultyID, dept, leaves_remaining, permission_level) VALUES (12,'ME', 20, 0);INSERT INTO Faculty(FacultyID, dept, leaves_remaining, permission_level) VALUES (13,'ME', 3, 0);INSERT INTO Faculty(FacultyID, dept, leaves_remaining, permission_level) VALUES (14,'EE', 4, 0);INSERT INTO Faculty(FacultyID, dept, leaves_remaining, permission_level) VALUES (15,'EE', 20, 0);INSERT INTO Faculty(FacultyID, dept, leaves_remaining, permission_level) VALUES (16,'ME', 15, 1);INSERT INTO Faculty(FacultyID, dept, leaves_remaining, permission_level) VALUES (17,'CSE', 7, 0);INSERT INTO Faculty(FacultyID, dept, leaves_remaining, permission_level) VALUES (18,'EE', 20, 0);INSERT INTO Faculty(FacultyID, dept, leaves_remaining, permission_level) VALUES (19,'CSE', 20, 1);INSERT INTO Faculty(FacultyID, dept, leaves_remaining, permission_level) VALUES (20,'CSE', 20, 2);INSERT INTO Active Leave Entries(EntryID, FacultyID, ApplicationDate, Starting Date, No.Of Leaves, Curr_Status, Desciption) VALUES (1,10,'2020-02-18','2020-01-24',20,4,'girl drives odd merrily.');INSERT INTO Active Leave Entries(EntryID, FacultyID, ApplicationDate, Starting Date, No.Of Leaves, Curr_Status, Desciption) VALUES (2,14,'2020-01-05','2020-01-22',3,2,'monkey barfs stupid occasionally.');INSERT INTO Active Leave Entries(EntryID, FacultyID, ApplicationDate, Starting Date, No.Of Leaves, Curr_Status, Desciption) VALUES (3,9,'2020-01-25','2020-02-07',1,4,'car hits clueless dutifully.');INSERT INTO Active Leave Entries(EntryID, FacultyID, ApplicationDate, Starting Date, No.Of Leaves, Curr_Status, Desciption) VALUES (4,1,'2020-01-12','2020-01-25',6,2,'puppy runs adorable crazily.');INSERT INTO Active Leave Entries(EntryID, FacultyID, ApplicationDate, Starting Date, No.Of Leaves, Curr_Status, Desciption) VALUES (5,16,'2020-01-11','2020-02-02',2,4,'puppy runs adorable crazily.');INSERT INTO Active Leave Entries(EntryID, FacultyID, ApplicationDate, Starting Date, No.Of Leaves, Curr_Status, Desciption) VALUES (6,14,'2020-02-01','2020-02-17',2,1,'girl drives odd merrily.');INSERT INTO Active Leave Entries(EntryID, FacultyID, ApplicationDate, Starting Date, No.Of Leaves, Curr_Status, Desciption) VALUES (7,4,'2020-02-07','2020-01-01',7,4,'rabbit jumps dirty foolishly.');INSERT INTO Active Leave Entries(EntryID, FacultyID, ApplicationDate, Starting Date, No.Of Leaves, Curr_Status, Desciption) VALUES (8,3,'2020-02-26','2020-01-25',2,1,'girl drives odd merrily.');INSERT INTO Active Leave Entries(EntryID, FacultyID, ApplicationDate, Starting Date, No.Of Leaves, Curr_Status, Desciption) VALUES (9,4,'2020-01-21','2020-01-30',16,3,'monkey barfs stupid occasionally.');INSERT INTO Active Leave Entries(EntryID, FacultyID, ApplicationDate, Starting Date, No.Of Leaves, Curr_Status, Desciption) VALUES (10,11,'2020-01-22','2020-02-05',12,1,'puppy runs adorable crazily.');INSERT INTO Comments(EntryID, timecreated, body, FromFacultyID) VALUES (19,'2020-01-18','puppy runs adorable crazily.', 19);INSERT INTO Comments(EntryID, timecreated, body, FromFacultyID) VALUES (1,'2020-02-08','rabbit jumps dirty foolishly.', 13);INSERT INTO Comments(EntryID, timecreated, body, FromFacultyID) VALUES (13,'2020-01-07','girl drives odd merrily.', 5);INSERT INTO Comments(EntryID, timecreated, body, FromFacultyID) VALUES (7,'2020-02-01','rabbit jumps dirty foolishly.', 2);INSERT INTO Comments(EntryID, timecreated, body, FromFacultyID) VALUES (9,'2020-02-29','monkey barfs stupid occasionally.', 17);INSERT INTO Comments(EntryID, timecreated, body, FromFacultyID) VALUES (20,'2020-01-15','puppy runs adorable crazily.', 10);INSERT INTO Comments(EntryID, timecreated, body, FromFacultyID) VALUES (5,'2020-01-23','monkey barfs stupid occasionally.', 16);INSERT INTO Comments(EntryID, timecreated, body, FromFacultyID) VALUES (12,'2020-01-26','puppy runs adorable crazily.', 9);INSERT INTO Comments(EntryID, timecreated, body, FromFacultyID) VALUES (20,'2020-02-12','rabbit jumps dirty foolishly.', 8);INSERT INTO Comments(EntryID, timecreated, body, FromFacultyID) VALUES (21,'2020-01-18','car hits clueless dutifully.', 16);\n"
     ]
    }
   ],
   "source": [
    "print(out_str)"
   ]
  },
  {
   "cell_type": "code",
   "execution_count": null,
   "metadata": {},
   "outputs": [],
   "source": []
  }
 ],
 "metadata": {
  "kernelspec": {
   "display_name": "Python 3",
   "language": "python",
   "name": "python3"
  },
  "language_info": {
   "codemirror_mode": {
    "name": "ipython",
    "version": 3
   },
   "file_extension": ".py",
   "mimetype": "text/x-python",
   "name": "python",
   "nbconvert_exporter": "python",
   "pygments_lexer": "ipython3",
   "version": "3.8.5"
  }
 },
 "nbformat": 4,
 "nbformat_minor": 4
}
